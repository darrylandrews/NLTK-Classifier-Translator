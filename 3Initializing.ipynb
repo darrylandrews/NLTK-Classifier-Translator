{
 "cells": [
  {
   "cell_type": "code",
   "execution_count": 1,
   "id": "expected-visitor",
   "metadata": {},
   "outputs": [],
   "source": [
    "import nltk\n",
    "import random\n",
    "from nltk.classify.scikitlearn import SklearnClassifier\n",
    "import pickle\n",
    "from sklearn.naive_bayes import MultinomialNB, BernoulliNB\n",
    "from sklearn.linear_model import LogisticRegression, SGDClassifier\n",
    "from sklearn.svm import SVC, LinearSVC, NuSVC\n",
    "from nltk.classify import ClassifierI\n",
    "from statistics import mode\n",
    "from nltk.tokenize import word_tokenize"
   ]
  },
  {
   "cell_type": "code",
   "execution_count": 2,
   "id": "collectible-serve",
   "metadata": {},
   "outputs": [],
   "source": [
    "class VoteClassifier(ClassifierI):\n",
    "    def __init__(self, *classifiers):\n",
    "        self._classifiers = classifiers\n",
    "\n",
    "    def classify(self, features):\n",
    "        votes = []\n",
    "        for c in self._classifiers:\n",
    "            v = c.classify(features)\n",
    "            votes.append(v)\n",
    "        return mode(votes)\n",
    "\n",
    "    def confidence(self, features):\n",
    "        votes = []\n",
    "        for c in self._classifiers:\n",
    "            v = c.classify(features)\n",
    "            votes.append(v)\n",
    "\n",
    "        choice_votes = votes.count(mode(votes))\n",
    "        conf = choice_votes / len(votes)\n",
    "        return conf"
   ]
  },
  {
   "cell_type": "code",
   "execution_count": 3,
   "id": "qualified-trash",
   "metadata": {},
   "outputs": [],
   "source": [
    "all_words = []\n",
    "documents = []"
   ]
  },
  {
   "cell_type": "code",
   "execution_count": 4,
   "id": "logical-december",
   "metadata": {},
   "outputs": [],
   "source": [
    "#  j is adject, r is adverb, and v is verb\n",
    "#allowed_word_types = [\"J\",\"R\",\"V\"]\n",
    "allowed_word_types = [\"J\"]"
   ]
  },
  {
   "cell_type": "code",
   "execution_count": 5,
   "id": "hollow-cargo",
   "metadata": {},
   "outputs": [],
   "source": [
    "import pandas as pd\n",
    "data = pd.read_csv('EqualTrainTest.csv')"
   ]
  },
  {
   "cell_type": "code",
   "execution_count": 6,
   "id": "humanitarian-nickel",
   "metadata": {},
   "outputs": [],
   "source": [
    "for i, w in enumerate(data['Content']):\n",
    "    \n",
    "    if(data.at[i, 'Sentiment'] == 0):\n",
    "        documents.append((w, \"neg\"))\n",
    "        words = word_tokenize(w)\n",
    "        pos = nltk.pos_tag(words)\n",
    "        for w in pos:\n",
    "            if w[1][0] in allowed_word_types:\n",
    "                all_words.append(w[0].lower())\n",
    "    else:\n",
    "        documents.append((w, \"pos\"))\n",
    "        words = word_tokenize(w)\n",
    "        pos = nltk.pos_tag(words)\n",
    "        for w in pos:\n",
    "            if w[1][0] in allowed_word_types:\n",
    "                all_words.append(w[0].lower())"
   ]
  },
  {
   "cell_type": "code",
   "execution_count": 7,
   "id": "consecutive-reputation",
   "metadata": {},
   "outputs": [],
   "source": [
    "save_documents = open(\"documents.pickle\",\"wb\")\n",
    "pickle.dump(documents, save_documents)"
   ]
  },
  {
   "cell_type": "code",
   "execution_count": 8,
   "id": "downtown-detroit",
   "metadata": {},
   "outputs": [],
   "source": [
    "all_words = nltk.FreqDist(all_words)"
   ]
  },
  {
   "cell_type": "code",
   "execution_count": 9,
   "id": "institutional-intellectual",
   "metadata": {},
   "outputs": [],
   "source": [
    "word_features = list(all_words.keys())[:5500]"
   ]
  },
  {
   "cell_type": "code",
   "execution_count": 10,
   "id": "english-bobby",
   "metadata": {},
   "outputs": [],
   "source": [
    "save_word_features = open(\"word_features5.5k.pickle\",\"wb\")\n",
    "pickle.dump(word_features, save_word_features)"
   ]
  },
  {
   "cell_type": "code",
   "execution_count": 11,
   "id": "postal-activity",
   "metadata": {},
   "outputs": [],
   "source": [
    "def find_features(document):\n",
    "    words = word_tokenize(document)\n",
    "    features = {}\n",
    "    for w in word_features:\n",
    "        features[w] = (w in words)\n",
    "\n",
    "    return features"
   ]
  },
  {
   "cell_type": "code",
   "execution_count": 12,
   "id": "mexican-mirror",
   "metadata": {},
   "outputs": [],
   "source": [
    "#documents"
   ]
  },
  {
   "cell_type": "code",
   "execution_count": 13,
   "id": "possible-appraisal",
   "metadata": {},
   "outputs": [
    {
     "name": "stdout",
     "output_type": "stream",
     "text": [
      "3158\n"
     ]
    }
   ],
   "source": [
    "featuresets = [(find_features(article), sentiment) for (article, sentiment) in documents]\n",
    "\n",
    "random.shuffle(featuresets)\n",
    "print(len(featuresets))\n",
    "\n",
    "training_set = featuresets[:2500]\n",
    "testing_set = featuresets[2500:]"
   ]
  },
  {
   "cell_type": "code",
   "execution_count": 14,
   "id": "killing-raise",
   "metadata": {},
   "outputs": [],
   "source": [
    "pos = 0\n",
    "neg = 0\n",
    "\n",
    "for i in training_set:\n",
    "    temp = i[1]\n",
    "    \n",
    "    if(temp == 'pos'):\n",
    "        pos += 1\n",
    "    else:\n",
    "        neg += 1"
   ]
  },
  {
   "cell_type": "code",
   "execution_count": 15,
   "id": "first-manual",
   "metadata": {},
   "outputs": [
    {
     "name": "stdout",
     "output_type": "stream",
     "text": [
      "1254\n"
     ]
    }
   ],
   "source": [
    "print(neg)"
   ]
  },
  {
   "cell_type": "code",
   "execution_count": 16,
   "id": "terminal-council",
   "metadata": {},
   "outputs": [
    {
     "name": "stdout",
     "output_type": "stream",
     "text": [
      "1254\n"
     ]
    }
   ],
   "source": [
    "print(neg)"
   ]
  },
  {
   "cell_type": "code",
   "execution_count": 17,
   "id": "reduced-stream",
   "metadata": {},
   "outputs": [],
   "source": [
    "save_features = open(\"featuresets.pickle\",\"wb\")\n",
    "pickle.dump(documents, save_features)"
   ]
  },
  {
   "cell_type": "code",
   "execution_count": 18,
   "id": "respective-posting",
   "metadata": {},
   "outputs": [],
   "source": [
    "#featuresets"
   ]
  },
  {
   "cell_type": "code",
   "execution_count": 19,
   "id": "outer-supervision",
   "metadata": {},
   "outputs": [
    {
     "name": "stdout",
     "output_type": "stream",
     "text": [
      "Original Naive Bayes Algo accuracy percent: 81.0030395136778\n",
      "Most Informative Features\n",
      "                arrested = True              neg : pos    =     49.5 : 1.0\n",
      "                  prison = True              neg : pos    =     32.0 : 1.0\n",
      "              attractive = True              pos : neg    =     31.2 : 1.0\n",
      "                    fake = True              neg : pos    =     30.1 : 1.0\n",
      "                  arrest = True              neg : pos    =     27.4 : 1.0\n",
      "                  issuer = True              pos : neg    =     26.5 : 1.0\n",
      "              optimistic = True              pos : neg    =     24.7 : 1.0\n",
      "              enthusiasm = True              pos : neg    =     21.1 : 1.0\n",
      "                 digital = True              pos : neg    =     19.8 : 1.0\n",
      "               2020-2021 = True              neg : pos    =     18.2 : 1.0\n",
      "                detained = True              neg : pos    =     18.0 : 1.0\n",
      "                 garbage = True              neg : pos    =     17.6 : 1.0\n",
      "                superior = True              pos : neg    =     17.1 : 1.0\n",
      "                   smart = True              pos : neg    =     16.4 : 1.0\n",
      "             competitive = True              pos : neg    =     16.2 : 1.0\n"
     ]
    }
   ],
   "source": [
    "# Naive Bayes Classifier\n",
    "\n",
    "classifier = nltk.NaiveBayesClassifier.train(training_set)\n",
    "print(\"Original Naive Bayes Algo accuracy percent:\", (nltk.classify.accuracy(classifier, testing_set))*100)\n",
    "classifier.show_most_informative_features(15)\n",
    "\n",
    "save_classifier = open(\"originalnaivebayes.pickle\",\"wb\")\n",
    "pickle.dump(classifier, save_classifier)"
   ]
  },
  {
   "cell_type": "code",
   "execution_count": 21,
   "id": "sharp-internet",
   "metadata": {},
   "outputs": [
    {
     "ename": "TypeError",
     "evalue": "__init__() missing 1 required positional argument: 'preds'",
     "output_type": "error",
     "traceback": [
      "\u001b[1;31m---------------------------------------------------------------------------\u001b[0m",
      "\u001b[1;31mTypeError\u001b[0m                                 Traceback (most recent call last)",
      "\u001b[1;32m<ipython-input-21-99a025ebb6cd>\u001b[0m in \u001b[0;36m<module>\u001b[1;34m\u001b[0m\n\u001b[0;32m      2\u001b[0m \u001b[1;32mfrom\u001b[0m \u001b[0mpyroc\u001b[0m \u001b[1;32mimport\u001b[0m \u001b[0mROC\u001b[0m\u001b[1;33m\u001b[0m\u001b[1;33m\u001b[0m\u001b[0m\n\u001b[0;32m      3\u001b[0m \u001b[1;33m\u001b[0m\u001b[0m\n\u001b[1;32m----> 4\u001b[1;33m \u001b[0mroc_data\u001b[0m \u001b[1;33m=\u001b[0m \u001b[0mROC\u001b[0m\u001b[1;33m(\u001b[0m\u001b[1;33m(\u001b[0m\u001b[0mlabel\u001b[0m\u001b[1;33m,\u001b[0m \u001b[0mnaive_bayes\u001b[0m\u001b[1;33m.\u001b[0m\u001b[0mprob_classify\u001b[0m\u001b[1;33m(\u001b[0m\u001b[0mfeaturesets\u001b[0m\u001b[1;33m)\u001b[0m\u001b[1;33m.\u001b[0m\u001b[0mprob\u001b[0m\u001b[1;33m(\u001b[0m\u001b[1;36m1\u001b[0m\u001b[1;33m)\u001b[0m\u001b[1;33m)\u001b[0m \u001b[1;32mfor\u001b[0m \u001b[0mfeaturesets\u001b[0m\u001b[1;33m,\u001b[0m \u001b[0mlabel\u001b[0m \u001b[1;32min\u001b[0m \u001b[0mdocuments\u001b[0m\u001b[1;33m)\u001b[0m\u001b[1;33m\u001b[0m\u001b[1;33m\u001b[0m\u001b[0m\n\u001b[0m\u001b[0;32m      5\u001b[0m \u001b[0mroc_data\u001b[0m\u001b[1;33m.\u001b[0m\u001b[0mplot\u001b[0m\u001b[1;33m(\u001b[0m\u001b[1;33m)\u001b[0m\u001b[1;33m\u001b[0m\u001b[1;33m\u001b[0m\u001b[0m\n",
      "\u001b[1;31mTypeError\u001b[0m: __init__() missing 1 required positional argument: 'preds'"
     ]
    }
   ],
   "source": [
    "#Test\n",
    "from pyroc import ROC\n",
    "\n",
    "roc_data = ROC((label, naive_bayes.prob_classify(featuresets).prob(1)) for featuresets, label in documents)\n",
    "roc_data.plot()"
   ]
  },
  {
   "cell_type": "code",
   "execution_count": 36,
   "id": "painful-limitation",
   "metadata": {},
   "outputs": [
    {
     "name": "stdout",
     "output_type": "stream",
     "text": [
      "MNB_classifier accuracy percent: 84.65045592705167\n"
     ]
    }
   ],
   "source": [
    "# Multinomial Naive Bayes\n",
    "\n",
    "MNB_classifier = SklearnClassifier(MultinomialNB())\n",
    "MNB_classifier.train(training_set)\n",
    "print(\"MNB_classifier accuracy percent:\", (nltk.classify.accuracy(MNB_classifier, testing_set))*100)\n",
    "\n",
    "save_classifier = open(\"MNB_classifier.pickle\",\"wb\")\n",
    "pickle.dump(MNB_classifier, save_classifier)"
   ]
  },
  {
   "cell_type": "code",
   "execution_count": 37,
   "id": "bored-establishment",
   "metadata": {},
   "outputs": [
    {
     "name": "stdout",
     "output_type": "stream",
     "text": [
      "BernoulliNB_classifier accuracy percent: 84.34650455927051\n"
     ]
    }
   ],
   "source": [
    "# Bernoulli Naive Bayes\n",
    "\n",
    "BernoulliNB_classifier = SklearnClassifier(BernoulliNB())\n",
    "BernoulliNB_classifier.train(training_set)\n",
    "print(\"BernoulliNB_classifier accuracy percent:\", (nltk.classify.accuracy(BernoulliNB_classifier, testing_set))*100)\n",
    "\n",
    "save_classifier = open(\"BernoulliNB_classifier.pickle\",\"wb\")\n",
    "pickle.dump(BernoulliNB_classifier, save_classifier)"
   ]
  },
  {
   "cell_type": "code",
   "execution_count": 38,
   "id": "bulgarian-trade",
   "metadata": {},
   "outputs": [
    {
     "name": "stdout",
     "output_type": "stream",
     "text": [
      "LogisticRegression_classifier accuracy percent: 89.8176291793313\n"
     ]
    }
   ],
   "source": [
    "# Logistic Regression\n",
    "\n",
    "LogisticRegression_classifier = SklearnClassifier(LogisticRegression())\n",
    "LogisticRegression_classifier.train(training_set)\n",
    "print(\"LogisticRegression_classifier accuracy percent:\", (nltk.classify.accuracy(LogisticRegression_classifier, testing_set))*100)\n",
    "\n",
    "save_classifier = open(\"LogisticRegression_classifier.pickle\",\"wb\")\n",
    "pickle.dump(LogisticRegression_classifier, save_classifier)"
   ]
  },
  {
   "cell_type": "code",
   "execution_count": 39,
   "id": "collective-majority",
   "metadata": {},
   "outputs": [
    {
     "name": "stdout",
     "output_type": "stream",
     "text": [
      "LinearSVC_classifier accuracy percent: 89.209726443769\n"
     ]
    }
   ],
   "source": [
    "# Linear Support Vector Classification\n",
    "\n",
    "LinearSVC_classifier = SklearnClassifier(LinearSVC())\n",
    "LinearSVC_classifier.train(training_set)\n",
    "print(\"LinearSVC_classifier accuracy percent:\", (nltk.classify.accuracy(LinearSVC_classifier, testing_set))*100)\n",
    "\n",
    "save_classifier = open(\"LinearSVC_classifier.pickle\",\"wb\")\n",
    "pickle.dump(LinearSVC_classifier, save_classifier)"
   ]
  },
  {
   "cell_type": "code",
   "execution_count": 40,
   "id": "collaborative-kelly",
   "metadata": {},
   "outputs": [
    {
     "name": "stdout",
     "output_type": "stream",
     "text": [
      "SGDClassifier accuracy percent: 89.51367781155015\n"
     ]
    }
   ],
   "source": [
    "# Stochastic Gradient Descent CLassifier\n",
    "\n",
    "SGDC_classifier = SklearnClassifier(SGDClassifier())\n",
    "SGDC_classifier.train(training_set)\n",
    "print(\"SGDClassifier accuracy percent:\",nltk.classify.accuracy(SGDC_classifier, testing_set)*100)\n",
    "\n",
    "save_classifier = open(\"SGDC_classifier.pickle\",\"wb\")\n",
    "pickle.dump(SGDC_classifier, save_classifier)"
   ]
  },
  {
   "cell_type": "code",
   "execution_count": null,
   "id": "substantial-buying",
   "metadata": {},
   "outputs": [],
   "source": []
  }
 ],
 "metadata": {
  "kernelspec": {
   "display_name": "Python 3",
   "language": "python",
   "name": "python3"
  },
  "language_info": {
   "codemirror_mode": {
    "name": "ipython",
    "version": 3
   },
   "file_extension": ".py",
   "mimetype": "text/x-python",
   "name": "python",
   "nbconvert_exporter": "python",
   "pygments_lexer": "ipython3",
   "version": "3.6.8"
  }
 },
 "nbformat": 4,
 "nbformat_minor": 5
}
