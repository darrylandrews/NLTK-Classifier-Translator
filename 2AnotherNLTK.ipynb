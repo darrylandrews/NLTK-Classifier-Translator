{
 "cells": [
  {
   "cell_type": "code",
   "execution_count": 1,
   "id": "substantial-antenna",
   "metadata": {},
   "outputs": [],
   "source": [
    "import pandas as pd\n",
    "import numpy as np\n",
    "from sklearn.preprocessing import LabelEncoder\n",
    "from sklearn.model_selection import train_test_split\n",
    "from IPython.display import clear_output\n",
    "from textblob import TextBlob"
   ]
  },
  {
   "cell_type": "code",
   "execution_count": 2,
   "id": "revised-yellow",
   "metadata": {},
   "outputs": [
    {
     "name": "stdout",
     "output_type": "stream",
     "text": [
      "22904\n"
     ]
    }
   ],
   "source": [
    "data = pd.read_csv('Translated_EN_fixed.csv')\n",
    "data.drop('Unnamed: 0', inplace=True, axis=1)\n",
    "data.drop('Unnamed: 0.1', inplace=True, axis=1)\n",
    "print(len(data['Content']))"
   ]
  },
  {
   "cell_type": "code",
   "execution_count": 3,
   "id": "million-background",
   "metadata": {},
   "outputs": [
    {
     "name": "stdout",
     "output_type": "stream",
     "text": [
      "The Central Statistics Agency (BPS) of Papua Province stated that the percentage of poor people in the region during the last six months had increased by 0.16 percentage points, from 26.64 percent in March 2020 to 26.80 percent in September 2020. Head of BPS Papua Province Adriana Helena Carolina in Jayapura, Monday, said the percentage of poor people in Papua for urban areas increased by 0.12 percentage points to 4.59 percent (4.47 percent in March 2020) and rural areas rose by 0.19 percentage points to 35 points. 69 percent (35.50 percent in March 2020). \"The role of food commodities in the poverty line is much greater than the role of non-food commodities, both urban and rural,\" he said, quoted by Antara, Monday (15/2). According to Adriana, in September 2020 the contribution of the food poverty line to the urban poverty line was 67.40 percent, while in rural areas it was 78.80 percent. \"Food commodities that have a major influence on the poverty line of Papua Province in urban areas are rice, filter kretek cigarettes, mackerel, broiler eggs, and cakes, then food commodities that have a major impact on the poverty line in rural areas are sweet potatoes or sweet potatoes, rice. , filter kretek cigarettes, cassava and cassava leaves,\" he said. He explained that in the March 2020-September 2020 period, the Poverty Depth Index (P1) and Poverty Severity Index (P2) showed an upward trend, which indicated that the average expenditure of the poor tended to move away from the poverty line and inequality between the poor was increasing. compared to the previous period. \"Several factors related to the poverty rate during the March 2020-September 2020 period include the Papuan economy in the third quarter of 2020 which experienced a contraction of minus 2.61 percent (y-on-y),\" he said. He added that in addition, the Open Unemployment Rate (TPT) in August 2020 was 4.28 percent, an increase compared to the conditions in August the previous year. According to Bank Indonesia, Papua Province, there was a decline in people's purchasing power, which was caused by a decline in economic activity in Papua Province and The realization of Cash Social Assistance (BST) in Papua Province is only 65.2 percent. \"The distribution of Village Funds for the third phase of 2020 has been delayed, where there are still 13.05 percent of villages that have received village funds, this has resulted in delays in the distribution of BLT-Village Funds, also the distribution of basic food programs in Papua Province has only reached 59.5 percent, while other provinces in Indonesia have reached more than 85 percent,\" he said. Not only that, the population of Papua with spending deciles one and three has increased, this may be due to the population with the lowest level of spending during the pandemic only buying basic necessities in retail at a much higher price, and in less quantity. And in early September 2020, the City of Jayapura implemented a new normal, but within the next two weeks the cases of positive COVID-19 residents increased rapidly, which indirectly had an impact on the economy of the people in Jayapura City. [eco]\n"
     ]
    }
   ],
   "source": [
    "from nltk.sentiment.vader import SentimentIntensityAnalyzer\n",
    "sia = SentimentIntensityAnalyzer()\n",
    "\n",
    "text = data.at[3, 'Content']\n",
    "print(text)"
   ]
  },
  {
   "cell_type": "code",
   "execution_count": 4,
   "id": "logical-westminster",
   "metadata": {},
   "outputs": [
    {
     "name": "stdout",
     "output_type": "stream",
     "text": [
      "{'neg': 0.061, 'neu': 0.898, 'pos': 0.041, 'compound': -0.8294}\n"
     ]
    }
   ],
   "source": [
    "score = sia.polarity_scores(text)\n",
    "print(score)"
   ]
  },
  {
   "cell_type": "code",
   "execution_count": 5,
   "id": "laughing-indian",
   "metadata": {},
   "outputs": [
    {
     "name": "stdout",
     "output_type": "stream",
     "text": [
      "0.035874368686868684\n"
     ]
    }
   ],
   "source": [
    "blob_score = TextBlob(text).sentiment.polarity\n",
    "print(blob_score)"
   ]
  },
  {
   "cell_type": "code",
   "execution_count": 6,
   "id": "atlantic-summit",
   "metadata": {},
   "outputs": [
    {
     "name": "stdout",
     "output_type": "stream",
     "text": [
      "22904 processed out of 22904 --- 100.00%\n"
     ]
    }
   ],
   "source": [
    "count = 0\n",
    "same_res = []\n",
    "count_same_pos = 0\n",
    "count_same_neg = 0\n",
    "\n",
    "for i, w in enumerate(data['Content']):\n",
    "    vader_score = sia.polarity_scores(w)\n",
    "    blob_score = TextBlob(w).sentiment.polarity\n",
    "    \n",
    "    v_pos = vader_score['pos']\n",
    "    v_neg = vader_score['neg']\n",
    "    \n",
    "    flag_v = 0\n",
    "    flag_b = 0\n",
    "    \n",
    "    if(v_pos > v_neg):\n",
    "        data.at[i, 'Vader Score'] = 1\n",
    "        flag_v = 1\n",
    "    else:\n",
    "        data.at[i, 'Vader Score'] = 0\n",
    "        \n",
    "    if(blob_score > 0): \n",
    "        data.at[i, 'Blob Score'] = 1\n",
    "        flag_b = 1\n",
    "    else: \n",
    "        data.at[i, 'Blob Score'] = 0\n",
    "        \n",
    "    if(flag_v == flag_b):\n",
    "        same_res.append(i)\n",
    "        if(flag_v == 1):\n",
    "            count_same_pos += 1\n",
    "        else:\n",
    "            count_same_neg += 1\n",
    "    \n",
    "    count += 1\n",
    "    if (count%5 == 0):\n",
    "        clear_output(wait=True)\n",
    "        print(\"{0} processed out of {1} --- {2:.2f}%\".format(count, len(data['Content']), (count/len(data['Content']))*100))\n",
    "    elif (count == len(data['Content'])):\n",
    "        clear_output(wait=True)\n",
    "        print(\"{0} processed out of {1} --- {2:.2f}%\".format(count, len(data['Content']), (count/len(data['Content']))*100))"
   ]
  },
  {
   "cell_type": "code",
   "execution_count": 7,
   "id": "manual-ghost",
   "metadata": {},
   "outputs": [
    {
     "name": "stdout",
     "output_type": "stream",
     "text": [
      "1579\n"
     ]
    }
   ],
   "source": [
    "data\n",
    "print(count_same_neg)"
   ]
  },
  {
   "cell_type": "code",
   "execution_count": 8,
   "id": "retired-yesterday",
   "metadata": {},
   "outputs": [],
   "source": [
    "data.to_csv('Translated - Vader and Blob.csv')"
   ]
  },
  {
   "cell_type": "code",
   "execution_count": 8,
   "id": "distinguished-rabbit",
   "metadata": {},
   "outputs": [],
   "source": [
    "pos_v, neg_v = data['Vader Score'].value_counts()\n",
    "pos_b, neg_b = data['Blob Score'].value_counts()"
   ]
  },
  {
   "cell_type": "code",
   "execution_count": 9,
   "id": "massive-adelaide",
   "metadata": {},
   "outputs": [
    {
     "name": "stdout",
     "output_type": "stream",
     "text": [
      "[19058, 3846]\n",
      "[19938, 2966]\n"
     ]
    }
   ],
   "source": [
    "np_array_vader = []\n",
    "np_array_blob = []\n",
    "\n",
    "np_array_vader.append(pos_v)\n",
    "np_array_vader.append(neg_v)\n",
    "\n",
    "np_array_blob.append(pos_b)\n",
    "np_array_blob.append(neg_b)\n",
    "\n",
    "print(np_array_vader)\n",
    "print(np_array_blob)"
   ]
  },
  {
   "cell_type": "code",
   "execution_count": 15,
   "id": "christian-variable",
   "metadata": {},
   "outputs": [
    {
     "data": {
      "image/png": "[encoded data removed]",
      "text/plain": [
       "<Figure size 1152x648 with 1 Axes>"
      ]
     },
     "metadata": {},
     "output_type": "display_data"
    }
   ],
   "source": [
    "import matplotlib.pyplot as plt\n",
    "\n",
    "mylabels = [\"Positive\", \"Negative\"]\n",
    "mycolors = [\"g\", \"r\"]\n",
    "\n",
    "plt.pie(np_array_vader, labels = mylabels, colors = mycolors, autopct=\"%.f%%\")\n",
    "\n",
    "plt.rcParams[\"figure.figsize\"] = (16,9)\n",
    "#plt.rcParams.update({'font.size': 22})\n",
    "plt.legend(title = \"NLTK Sentiment\")\n",
    "plt.rc('font', size=22)   \n",
    "plt.show() "
   ]
  },
  {
   "cell_type": "code",
   "execution_count": 16,
   "id": "forty-nutrition",
   "metadata": {},
   "outputs": [
    {
     "data": {
      "image/png": "[encoded data removed]",
      "text/plain": [
       "<Figure size 1152x648 with 1 Axes>"
      ]
     },
     "metadata": {},
     "output_type": "display_data"
    }
   ],
   "source": [
    "import matplotlib.pyplot as plt\n",
    "\n",
    "mylabels = [\"Positive\", \"Negative\"]\n",
    "mycolors = [\"g\", \"r\"]\n",
    "\n",
    "plt.pie(np_array_blob, labels = mylabels, colors = mycolors, autopct=\"%.f%%\")\n",
    "\n",
    "plt.rcParams[\"figure.figsize\"] = (16,9)\n",
    "#plt.rcParams.update({'font.size': 22})\n",
    "plt.legend(title = \"Blob Sentiment\")\n",
    "plt.rc('font', size=22)   \n",
    "plt.show() "
   ]
  },
  {
   "cell_type": "code",
   "execution_count": 12,
   "id": "seeing-length",
   "metadata": {},
   "outputs": [],
   "source": [
    "np_array_same = []\n",
    "\n",
    "np_array_same.append(count_same_pos)\n",
    "np_array_same.append(count_same_neg)"
   ]
  },
  {
   "cell_type": "code",
   "execution_count": 17,
   "id": "about-individual",
   "metadata": {},
   "outputs": [
    {
     "data": {
      "image/png": "[encoded data removed]",
      "text/plain": [
       "<Figure size 1152x648 with 1 Axes>"
      ]
     },
     "metadata": {},
     "output_type": "display_data"
    }
   ],
   "source": [
    "import matplotlib.pyplot as plt\n",
    "\n",
    "mylabels = [\"Positive\", \"Negative\"]\n",
    "mycolors = [\"g\", \"r\"]\n",
    "\n",
    "plt.pie(np_array_same, labels = mylabels, colors = mycolors, autopct=\"%.f%%\")\n",
    "\n",
    "plt.rcParams[\"figure.figsize\"] = (16,9)\n",
    "#plt.rcParams.update({'font.size': 22})\n",
    "plt.legend(title = \"Similar Sentiment\")\n",
    "plt.rc('font', size=22)   \n",
    "plt.show() "
   ]
  },
  {
   "cell_type": "code",
   "execution_count": 15,
   "id": "molecular-manner",
   "metadata": {},
   "outputs": [
    {
     "name": "stdout",
     "output_type": "stream",
     "text": [
      "19250\n"
     ]
    }
   ],
   "source": [
    "print(count_same_pos + count_same_neg)"
   ]
  },
  {
   "cell_type": "code",
   "execution_count": 16,
   "id": "involved-india",
   "metadata": {},
   "outputs": [],
   "source": [
    "#creating a dataframe with equal pos and neg\n",
    "\n",
    "equal_df = pd.DataFrame()"
   ]
  },
  {
   "cell_type": "code",
   "execution_count": 17,
   "id": "according-wales",
   "metadata": {},
   "outputs": [
    {
     "data": {
      "text/html": [
       "<div>\n",
       "<style scoped>\n",
       "    .dataframe tbody tr th:only-of-type {\n",
       "        vertical-align: middle;\n",
       "    }\n",
       "\n",
       "    .dataframe tbody tr th {\n",
       "        vertical-align: top;\n",
       "    }\n",
       "\n",
       "    .dataframe thead th {\n",
       "        text-align: right;\n",
       "    }\n",
       "</style>\n",
       "<table border=\"1\" class=\"dataframe\">\n",
       "  <thead>\n",
       "    <tr style=\"text-align: right;\">\n",
       "      <th></th>\n",
       "    </tr>\n",
       "  </thead>\n",
       "  <tbody>\n",
       "  </tbody>\n",
       "</table>\n",
       "</div>"
      ],
      "text/plain": [
       "Empty DataFrame\n",
       "Columns: []\n",
       "Index: []"
      ]
     },
     "execution_count": 17,
     "metadata": {},
     "output_type": "execute_result"
    }
   ],
   "source": [
    "equal_df"
   ]
  },
  {
   "cell_type": "code",
   "execution_count": 18,
   "id": "rapid-elimination",
   "metadata": {},
   "outputs": [
    {
     "name": "stdout",
     "output_type": "stream",
     "text": [
      "19250 processed out of 19250 --- 100.00%\n"
     ]
    }
   ],
   "source": [
    "row = 0\n",
    "count = 0\n",
    "\n",
    "for i in same_res:\n",
    "    equal_df.at[row, 'Original Array'] = i\n",
    "    equal_df.at[row, 'Content'] = data.at[i, 'Content']\n",
    "    equal_df.at[row, 'Vader Score'] = data.at[i, 'Vader Score']\n",
    "    equal_df.at[row, 'Blob Score'] = data.at[i, 'Blob Score']\n",
    "    \n",
    "    if(data.at[i, 'Blob Score'] == data.at[i, 'Vader Score']):\n",
    "        equal_df.at[row, 'Sentiment'] = data.at[i, 'Blob Score']\n",
    "        \n",
    "    row += 1\n",
    "    count += 1\n",
    "    \n",
    "    if (count%5 == 0):\n",
    "        clear_output(wait=True)\n",
    "        print(\"{0} processed out of {1} --- {2:.2f}%\".format(count, len(same_res), (count/len(same_res))*100))\n",
    "    elif (count == len(same_res)):\n",
    "        clear_output(wait=True)\n",
    "        print(\"{0} processed out of {1} --- {2:.2f}%\".format(count, len(same_res), (count/lenlen(same_res))*100))                                       "
   ]
  },
  {
   "cell_type": "code",
   "execution_count": 19,
   "id": "documentary-retention",
   "metadata": {},
   "outputs": [
    {
     "data": {
      "text/html": [
       "<div>\n",
       "<style scoped>\n",
       "    .dataframe tbody tr th:only-of-type {\n",
       "        vertical-align: middle;\n",
       "    }\n",
       "\n",
       "    .dataframe tbody tr th {\n",
       "        vertical-align: top;\n",
       "    }\n",
       "\n",
       "    .dataframe thead th {\n",
       "        text-align: right;\n",
       "    }\n",
       "</style>\n",
       "<table border=\"1\" class=\"dataframe\">\n",
       "  <thead>\n",
       "    <tr style=\"text-align: right;\">\n",
       "      <th></th>\n",
       "      <th>Original Array</th>\n",
       "      <th>Content</th>\n",
       "      <th>Vader Score</th>\n",
       "      <th>Blob Score</th>\n",
       "      <th>Sentiment</th>\n",
       "    </tr>\n",
       "  </thead>\n",
       "  <tbody>\n",
       "    <tr>\n",
       "      <th>0</th>\n",
       "      <td>0.0</td>\n",
       "      <td>The National Police Chief promised that the us...</td>\n",
       "      <td>1.0</td>\n",
       "      <td>1.0</td>\n",
       "      <td>1.0</td>\n",
       "    </tr>\n",
       "    <tr>\n",
       "      <th>1</th>\n",
       "      <td>1.0</td>\n",
       "      <td>\"There are still various costs involved in pro...</td>\n",
       "      <td>1.0</td>\n",
       "      <td>1.0</td>\n",
       "      <td>1.0</td>\n",
       "    </tr>\n",
       "    <tr>\n",
       "      <th>2</th>\n",
       "      <td>2.0</td>\n",
       "      <td>The World Trade Organization (WTO) has officia...</td>\n",
       "      <td>1.0</td>\n",
       "      <td>1.0</td>\n",
       "      <td>1.0</td>\n",
       "    </tr>\n",
       "    <tr>\n",
       "      <th>3</th>\n",
       "      <td>4.0</td>\n",
       "      <td>The Attorney General's Office (AGO) has again ...</td>\n",
       "      <td>0.0</td>\n",
       "      <td>0.0</td>\n",
       "      <td>0.0</td>\n",
       "    </tr>\n",
       "    <tr>\n",
       "      <th>4</th>\n",
       "      <td>5.0</td>\n",
       "      <td>If the land is for national roads, there is ad...</td>\n",
       "      <td>1.0</td>\n",
       "      <td>1.0</td>\n",
       "      <td>1.0</td>\n",
       "    </tr>\n",
       "    <tr>\n",
       "      <th>...</th>\n",
       "      <td>...</td>\n",
       "      <td>...</td>\n",
       "      <td>...</td>\n",
       "      <td>...</td>\n",
       "      <td>...</td>\n",
       "    </tr>\n",
       "    <tr>\n",
       "      <th>19245</th>\n",
       "      <td>22899.0</td>\n",
       "      <td>The number of poor people in West Nusa Tenggar...</td>\n",
       "      <td>0.0</td>\n",
       "      <td>0.0</td>\n",
       "      <td>0.0</td>\n",
       "    </tr>\n",
       "    <tr>\n",
       "      <th>19246</th>\n",
       "      <td>22900.0</td>\n",
       "      <td>Aceh province is again the poorest area in Sum...</td>\n",
       "      <td>0.0</td>\n",
       "      <td>0.0</td>\n",
       "      <td>0.0</td>\n",
       "    </tr>\n",
       "    <tr>\n",
       "      <th>19247</th>\n",
       "      <td>22901.0</td>\n",
       "      <td>The Attorney General's Office (AGO) has named ...</td>\n",
       "      <td>0.0</td>\n",
       "      <td>0.0</td>\n",
       "      <td>0.0</td>\n",
       "    </tr>\n",
       "    <tr>\n",
       "      <th>19248</th>\n",
       "      <td>22902.0</td>\n",
       "      <td>The Minister of Maritime Affairs and Fisheries...</td>\n",
       "      <td>1.0</td>\n",
       "      <td>1.0</td>\n",
       "      <td>1.0</td>\n",
       "    </tr>\n",
       "    <tr>\n",
       "      <th>19249</th>\n",
       "      <td>22903.0</td>\n",
       "      <td>PT Pegadaian (Persero) which is a State-Owned ...</td>\n",
       "      <td>1.0</td>\n",
       "      <td>1.0</td>\n",
       "      <td>1.0</td>\n",
       "    </tr>\n",
       "  </tbody>\n",
       "</table>\n",
       "<p>19250 rows × 5 columns</p>\n",
       "</div>"
      ],
      "text/plain": [
       "       Original Array                                            Content  \\\n",
       "0                 0.0  The National Police Chief promised that the us...   \n",
       "1                 1.0  \"There are still various costs involved in pro...   \n",
       "2                 2.0  The World Trade Organization (WTO) has officia...   \n",
       "3                 4.0  The Attorney General's Office (AGO) has again ...   \n",
       "4                 5.0  If the land is for national roads, there is ad...   \n",
       "...               ...                                                ...   \n",
       "19245         22899.0  The number of poor people in West Nusa Tenggar...   \n",
       "19246         22900.0  Aceh province is again the poorest area in Sum...   \n",
       "19247         22901.0  The Attorney General's Office (AGO) has named ...   \n",
       "19248         22902.0  The Minister of Maritime Affairs and Fisheries...   \n",
       "19249         22903.0  PT Pegadaian (Persero) which is a State-Owned ...   \n",
       "\n",
       "       Vader Score  Blob Score  Sentiment  \n",
       "0              1.0         1.0        1.0  \n",
       "1              1.0         1.0        1.0  \n",
       "2              1.0         1.0        1.0  \n",
       "3              0.0         0.0        0.0  \n",
       "4              1.0         1.0        1.0  \n",
       "...            ...         ...        ...  \n",
       "19245          0.0         0.0        0.0  \n",
       "19246          0.0         0.0        0.0  \n",
       "19247          0.0         0.0        0.0  \n",
       "19248          1.0         1.0        1.0  \n",
       "19249          1.0         1.0        1.0  \n",
       "\n",
       "[19250 rows x 5 columns]"
      ]
     },
     "execution_count": 19,
     "metadata": {},
     "output_type": "execute_result"
    }
   ],
   "source": [
    "equal_df"
   ]
  },
  {
   "cell_type": "code",
   "execution_count": 20,
   "id": "potential-diversity",
   "metadata": {},
   "outputs": [
    {
     "data": {
      "text/plain": [
       "False"
      ]
     },
     "execution_count": 20,
     "metadata": {},
     "output_type": "execute_result"
    }
   ],
   "source": [
    "equal_df['Sentiment'].isnull().values.any()"
   ]
  },
  {
   "cell_type": "code",
   "execution_count": 21,
   "id": "invisible-threshold",
   "metadata": {},
   "outputs": [],
   "source": [
    "equal_df = equal_df.sort_values('Sentiment')"
   ]
  },
  {
   "cell_type": "code",
   "execution_count": 26,
   "id": "thirty-disco",
   "metadata": {},
   "outputs": [],
   "source": [
    "equal_df = equal_df.reset_index(drop=True)"
   ]
  },
  {
   "cell_type": "code",
   "execution_count": 27,
   "id": "devoted-feelings",
   "metadata": {},
   "outputs": [
    {
     "data": {
      "text/html": [
       "<div>\n",
       "<style scoped>\n",
       "    .dataframe tbody tr th:only-of-type {\n",
       "        vertical-align: middle;\n",
       "    }\n",
       "\n",
       "    .dataframe tbody tr th {\n",
       "        vertical-align: top;\n",
       "    }\n",
       "\n",
       "    .dataframe thead th {\n",
       "        text-align: right;\n",
       "    }\n",
       "</style>\n",
       "<table border=\"1\" class=\"dataframe\">\n",
       "  <thead>\n",
       "    <tr style=\"text-align: right;\">\n",
       "      <th></th>\n",
       "      <th>Original Array</th>\n",
       "      <th>Content</th>\n",
       "      <th>Vader Score</th>\n",
       "      <th>Blob Score</th>\n",
       "      <th>Sentiment</th>\n",
       "    </tr>\n",
       "  </thead>\n",
       "  <tbody>\n",
       "    <tr>\n",
       "      <th>0</th>\n",
       "      <td>3247.0</td>\n",
       "      <td>Member of Commission VII DPR RI, Mulyanto aske...</td>\n",
       "      <td>0.0</td>\n",
       "      <td>0.0</td>\n",
       "      <td>0.0</td>\n",
       "    </tr>\n",
       "    <tr>\n",
       "      <th>1</th>\n",
       "      <td>10085.0</td>\n",
       "      <td>PT. Bank Danamon Indonesia. ANNOUNCEMENT OF SE...</td>\n",
       "      <td>0.0</td>\n",
       "      <td>0.0</td>\n",
       "      <td>0.0</td>\n",
       "    </tr>\n",
       "    <tr>\n",
       "      <th>2</th>\n",
       "      <td>20866.0</td>\n",
       "      <td>Prime Minister Prayuth Faces No-Confidence Mot...</td>\n",
       "      <td>0.0</td>\n",
       "      <td>0.0</td>\n",
       "      <td>0.0</td>\n",
       "    </tr>\n",
       "    <tr>\n",
       "      <th>3</th>\n",
       "      <td>18324.0</td>\n",
       "      <td>The Fleet One Quick Response (F1QR) team at Ta...</td>\n",
       "      <td>0.0</td>\n",
       "      <td>0.0</td>\n",
       "      <td>0.0</td>\n",
       "    </tr>\n",
       "    <tr>\n",
       "      <th>4</th>\n",
       "      <td>10093.0</td>\n",
       "      <td>Chairman of the Indonesian Tire Entrepreneurs ...</td>\n",
       "      <td>0.0</td>\n",
       "      <td>0.0</td>\n",
       "      <td>0.0</td>\n",
       "    </tr>\n",
       "    <tr>\n",
       "      <th>...</th>\n",
       "      <td>...</td>\n",
       "      <td>...</td>\n",
       "      <td>...</td>\n",
       "      <td>...</td>\n",
       "      <td>...</td>\n",
       "    </tr>\n",
       "    <tr>\n",
       "      <th>19245</th>\n",
       "      <td>7856.0</td>\n",
       "      <td>The merger of three sharia banks, which are su...</td>\n",
       "      <td>1.0</td>\n",
       "      <td>1.0</td>\n",
       "      <td>1.0</td>\n",
       "    </tr>\n",
       "    <tr>\n",
       "      <th>19246</th>\n",
       "      <td>7853.0</td>\n",
       "      <td>Stocks were up more than 1% in late trading Th...</td>\n",
       "      <td>1.0</td>\n",
       "      <td>1.0</td>\n",
       "      <td>1.0</td>\n",
       "    </tr>\n",
       "    <tr>\n",
       "      <th>19247</th>\n",
       "      <td>7852.0</td>\n",
       "      <td>strengthened against a basket of other major c...</td>\n",
       "      <td>1.0</td>\n",
       "      <td>1.0</td>\n",
       "      <td>1.0</td>\n",
       "    </tr>\n",
       "    <tr>\n",
       "      <th>19248</th>\n",
       "      <td>7738.0</td>\n",
       "      <td>Deputy for Investment and Mining Coordination ...</td>\n",
       "      <td>1.0</td>\n",
       "      <td>1.0</td>\n",
       "      <td>1.0</td>\n",
       "    </tr>\n",
       "    <tr>\n",
       "      <th>19249</th>\n",
       "      <td>22903.0</td>\n",
       "      <td>PT Pegadaian (Persero) which is a State-Owned ...</td>\n",
       "      <td>1.0</td>\n",
       "      <td>1.0</td>\n",
       "      <td>1.0</td>\n",
       "    </tr>\n",
       "  </tbody>\n",
       "</table>\n",
       "<p>19250 rows × 5 columns</p>\n",
       "</div>"
      ],
      "text/plain": [
       "       Original Array                                            Content  \\\n",
       "0              3247.0  Member of Commission VII DPR RI, Mulyanto aske...   \n",
       "1             10085.0  PT. Bank Danamon Indonesia. ANNOUNCEMENT OF SE...   \n",
       "2             20866.0  Prime Minister Prayuth Faces No-Confidence Mot...   \n",
       "3             18324.0  The Fleet One Quick Response (F1QR) team at Ta...   \n",
       "4             10093.0  Chairman of the Indonesian Tire Entrepreneurs ...   \n",
       "...               ...                                                ...   \n",
       "19245          7856.0  The merger of three sharia banks, which are su...   \n",
       "19246          7853.0  Stocks were up more than 1% in late trading Th...   \n",
       "19247          7852.0  strengthened against a basket of other major c...   \n",
       "19248          7738.0  Deputy for Investment and Mining Coordination ...   \n",
       "19249         22903.0  PT Pegadaian (Persero) which is a State-Owned ...   \n",
       "\n",
       "       Vader Score  Blob Score  Sentiment  \n",
       "0              0.0         0.0        0.0  \n",
       "1              0.0         0.0        0.0  \n",
       "2              0.0         0.0        0.0  \n",
       "3              0.0         0.0        0.0  \n",
       "4              0.0         0.0        0.0  \n",
       "...            ...         ...        ...  \n",
       "19245          1.0         1.0        1.0  \n",
       "19246          1.0         1.0        1.0  \n",
       "19247          1.0         1.0        1.0  \n",
       "19248          1.0         1.0        1.0  \n",
       "19249          1.0         1.0        1.0  \n",
       "\n",
       "[19250 rows x 5 columns]"
      ]
     },
     "execution_count": 27,
     "metadata": {},
     "output_type": "execute_result"
    }
   ],
   "source": [
    "equal_df"
   ]
  },
  {
   "cell_type": "code",
   "execution_count": 35,
   "id": "encouraging-rubber",
   "metadata": {},
   "outputs": [],
   "source": [
    "result_df = pd.DataFrame()"
   ]
  },
  {
   "cell_type": "code",
   "execution_count": 36,
   "id": "naked-vertex",
   "metadata": {},
   "outputs": [
    {
     "name": "stdout",
     "output_type": "stream",
     "text": [
      "3158 processed out of 3158 --- 100.00%\n"
     ]
    }
   ],
   "source": [
    "counter_neg = 0\n",
    "counter_pos = 0\n",
    "\n",
    "arr_count = 0\n",
    "count = 0\n",
    "\n",
    "for i in range(0, len(equal_df)):\n",
    "    if(equal_df.at[i, 'Sentiment'] == 0):\n",
    "        if(counter_neg <= 1579):\n",
    "            result_df.at[arr_count, 'OG Array'] = equal_df.at[i, 'Original Array']\n",
    "            result_df.at[arr_count, 'Content'] = equal_df.at[i, 'Content']\n",
    "            result_df.at[arr_count, 'Sentiment'] = equal_df.at[i, 'Sentiment']\n",
    "            counter_neg += 1\n",
    "        else:\n",
    "            continue\n",
    "    elif(equal_df.at[i, 'Sentiment'] == 1):\n",
    "        if(counter_pos < 1579):\n",
    "            result_df.at[arr_count, 'OG Array'] = equal_df.at[i, 'Original Array']\n",
    "            result_df.at[arr_count, 'Content'] = equal_df.at[i, 'Content']\n",
    "            result_df.at[arr_count, 'Sentiment'] = equal_df.at[i, 'Sentiment']\n",
    "            counter_pos += 1\n",
    "        else:\n",
    "            break\n",
    "            \n",
    "    arr_count += 1\n",
    "    count += 1\n",
    "    \n",
    "    if (count%5 == 0):\n",
    "        clear_output(wait=True)\n",
    "        print(\"{0} processed out of {1} --- {2:.2f}%\".format(count, 1579*2, (count/(1579*2))*100))\n",
    "    elif (count == 1579*2):\n",
    "        clear_output(wait=True)\n",
    "        print(\"{0} processed out of {1} --- {2:.2f}%\".format(count, 1579*2, (count/(1579*2))*100))"
   ]
  },
  {
   "cell_type": "code",
   "execution_count": 37,
   "id": "proof-invite",
   "metadata": {},
   "outputs": [
    {
     "data": {
      "text/html": [
       "<div>\n",
       "<style scoped>\n",
       "    .dataframe tbody tr th:only-of-type {\n",
       "        vertical-align: middle;\n",
       "    }\n",
       "\n",
       "    .dataframe tbody tr th {\n",
       "        vertical-align: top;\n",
       "    }\n",
       "\n",
       "    .dataframe thead th {\n",
       "        text-align: right;\n",
       "    }\n",
       "</style>\n",
       "<table border=\"1\" class=\"dataframe\">\n",
       "  <thead>\n",
       "    <tr style=\"text-align: right;\">\n",
       "      <th></th>\n",
       "      <th>OG Array</th>\n",
       "      <th>Content</th>\n",
       "      <th>Sentiment</th>\n",
       "    </tr>\n",
       "  </thead>\n",
       "  <tbody>\n",
       "    <tr>\n",
       "      <th>0</th>\n",
       "      <td>3247.0</td>\n",
       "      <td>Member of Commission VII DPR RI, Mulyanto aske...</td>\n",
       "      <td>0.0</td>\n",
       "    </tr>\n",
       "    <tr>\n",
       "      <th>1</th>\n",
       "      <td>10085.0</td>\n",
       "      <td>PT. Bank Danamon Indonesia. ANNOUNCEMENT OF SE...</td>\n",
       "      <td>0.0</td>\n",
       "    </tr>\n",
       "    <tr>\n",
       "      <th>2</th>\n",
       "      <td>20866.0</td>\n",
       "      <td>Prime Minister Prayuth Faces No-Confidence Mot...</td>\n",
       "      <td>0.0</td>\n",
       "    </tr>\n",
       "    <tr>\n",
       "      <th>3</th>\n",
       "      <td>18324.0</td>\n",
       "      <td>The Fleet One Quick Response (F1QR) team at Ta...</td>\n",
       "      <td>0.0</td>\n",
       "    </tr>\n",
       "    <tr>\n",
       "      <th>4</th>\n",
       "      <td>10093.0</td>\n",
       "      <td>Chairman of the Indonesian Tire Entrepreneurs ...</td>\n",
       "      <td>0.0</td>\n",
       "    </tr>\n",
       "    <tr>\n",
       "      <th>...</th>\n",
       "      <td>...</td>\n",
       "      <td>...</td>\n",
       "      <td>...</td>\n",
       "    </tr>\n",
       "    <tr>\n",
       "      <th>3153</th>\n",
       "      <td>16447.0</td>\n",
       "      <td>One of the main objectives of the COVID-19 vac...</td>\n",
       "      <td>1.0</td>\n",
       "    </tr>\n",
       "    <tr>\n",
       "      <th>3154</th>\n",
       "      <td>15651.0</td>\n",
       "      <td>PRESENTING FAST INTERNET, BIZNET EXPANDS NETWO...</td>\n",
       "      <td>1.0</td>\n",
       "    </tr>\n",
       "    <tr>\n",
       "      <th>3155</th>\n",
       "      <td>15652.0</td>\n",
       "      <td>JCI SESSION I CLOSED WEAKEN 15.5 POINTS TO LEV...</td>\n",
       "      <td>1.0</td>\n",
       "    </tr>\n",
       "    <tr>\n",
       "      <th>3156</th>\n",
       "      <td>15653.0</td>\n",
       "      <td>PPI RELEASE OF EXPORTS OF NON-SUBSIDED FERTILI...</td>\n",
       "      <td>1.0</td>\n",
       "    </tr>\n",
       "    <tr>\n",
       "      <th>3157</th>\n",
       "      <td>16446.0</td>\n",
       "      <td>Shares of PT Bank Jago Tbk (ARTO) have not bee...</td>\n",
       "      <td>1.0</td>\n",
       "    </tr>\n",
       "  </tbody>\n",
       "</table>\n",
       "<p>3158 rows × 3 columns</p>\n",
       "</div>"
      ],
      "text/plain": [
       "      OG Array                                            Content  Sentiment\n",
       "0       3247.0  Member of Commission VII DPR RI, Mulyanto aske...        0.0\n",
       "1      10085.0  PT. Bank Danamon Indonesia. ANNOUNCEMENT OF SE...        0.0\n",
       "2      20866.0  Prime Minister Prayuth Faces No-Confidence Mot...        0.0\n",
       "3      18324.0  The Fleet One Quick Response (F1QR) team at Ta...        0.0\n",
       "4      10093.0  Chairman of the Indonesian Tire Entrepreneurs ...        0.0\n",
       "...        ...                                                ...        ...\n",
       "3153   16447.0  One of the main objectives of the COVID-19 vac...        1.0\n",
       "3154   15651.0  PRESENTING FAST INTERNET, BIZNET EXPANDS NETWO...        1.0\n",
       "3155   15652.0  JCI SESSION I CLOSED WEAKEN 15.5 POINTS TO LEV...        1.0\n",
       "3156   15653.0  PPI RELEASE OF EXPORTS OF NON-SUBSIDED FERTILI...        1.0\n",
       "3157   16446.0  Shares of PT Bank Jago Tbk (ARTO) have not bee...        1.0\n",
       "\n",
       "[3158 rows x 3 columns]"
      ]
     },
     "execution_count": 37,
     "metadata": {},
     "output_type": "execute_result"
    }
   ],
   "source": [
    "result_df"
   ]
  },
  {
   "cell_type": "code",
   "execution_count": 43,
   "id": "clear-rings",
   "metadata": {},
   "outputs": [],
   "source": [
    "pos_f, neg_f = result_df['Sentiment'].value_counts()\n",
    "\n",
    "np_array_final = []\n",
    "\n",
    "np_array_final.append(pos_f)\n",
    "np_array_final.append(neg_f)"
   ]
  },
  {
   "cell_type": "code",
   "execution_count": 44,
   "id": "supported-roulette",
   "metadata": {},
   "outputs": [
    {
     "data": {
      "image/png": "[encoded data removed]",
      "text/plain": [
       "<Figure size 1152x648 with 1 Axes>"
      ]
     },
     "metadata": {},
     "output_type": "display_data"
    }
   ],
   "source": [
    "import matplotlib.pyplot as plt\n",
    "\n",
    "mylabels = [\"Positive\", \"Negative\"]\n",
    "mycolors = [\"g\", \"r\"]\n",
    "\n",
    "plt.pie(np_array_final, labels = mylabels, colors = mycolors, autopct=\"%.2f%%\")\n",
    "\n",
    "plt.rcParams[\"figure.figsize\"] = (16,9)\n",
    "#plt.rcParams.update({'font.size': 22})\n",
    "plt.legend(title = \"Equal Sentiment\")\n",
    "plt.rc('font', size=22)   \n",
    "plt.show() "
   ]
  },
  {
   "cell_type": "code",
   "execution_count": 46,
   "id": "gothic-kinase",
   "metadata": {},
   "outputs": [],
   "source": [
    "result_df.to_csv('EqualTrainTest.csv')"
   ]
  },
  {
   "cell_type": "code",
   "execution_count": null,
   "id": "controversial-fever",
   "metadata": {},
   "outputs": [],
   "source": []
  }
 ],
 "metadata": {
  "kernelspec": {
   "display_name": "Python 3",
   "language": "python",
   "name": "python3"
  },
  "language_info": {
   "codemirror_mode": {
    "name": "ipython",
    "version": 3
   },
   "file_extension": ".py",
   "mimetype": "text/x-python",
   "name": "python",
   "nbconvert_exporter": "python",
   "pygments_lexer": "ipython3",
   "version": "3.6.8"
  }
 },
 "nbformat": 4,
 "nbformat_minor": 5
}
