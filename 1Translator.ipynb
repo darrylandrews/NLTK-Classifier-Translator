{
 "cells": [
  {
   "cell_type": "code",
   "execution_count": 1,
   "id": "mechanical-pendant",
   "metadata": {},
   "outputs": [],
   "source": [
    "import pandas as pd\n",
    "# kelompok - proyeksi dan pengembangan model"
   ]
  },
  {
   "cell_type": "code",
   "execution_count": 2,
   "id": "included-wings",
   "metadata": {},
   "outputs": [],
   "source": [
    "data1 = pd.read_csv('cyberlib 1-15 feb.csv')\n",
    "data2 = pd.read_csv('cyberlib 16-28 feb.csv')"
   ]
  },
  {
   "cell_type": "code",
   "execution_count": 3,
   "id": "comparable-touch",
   "metadata": {},
   "outputs": [],
   "source": [
    "new_data1 = pd.DataFrame(columns=['Content'])\n",
    "new_data2 = pd.DataFrame(columns=['Content'])\n",
    "\n",
    "new_data1['Content'] = data1['Content'].astype(str)\n",
    "new_data2['Content'] = data2['Content'].astype(str)"
   ]
  },
  {
   "cell_type": "code",
   "execution_count": 4,
   "id": "adjustable-border",
   "metadata": {},
   "outputs": [],
   "source": [
    "final_data = pd.DataFrame(columns=['Content'])\n",
    "\n",
    "final_data = new_data1\n",
    "final_data = final_data.append(new_data2, ignore_index=True)"
   ]
  },
  {
   "cell_type": "code",
   "execution_count": 5,
   "id": "found-sacrifice",
   "metadata": {},
   "outputs": [
    {
     "name": "stdout",
     "output_type": "stream",
     "text": [
      "22904\n"
     ]
    }
   ],
   "source": [
    "print(len(final_data))"
   ]
  },
  {
   "cell_type": "code",
   "execution_count": 6,
   "id": "every-electric",
   "metadata": {},
   "outputs": [
    {
     "data": {
      "text/plain": [
       "'VIVAÂ -Â Menteri Badan Usaha Milik Negara (BUMN), Erick Thohir, memastikan bahwa Pemerintah telah berusaha secara maksimal dalam hal penanganan COVID-19. Bahkan, Pemerintah terus bekerja hampir 24 jam. Erick pun optimistis, program vaksinasi yang saat ini tengah digadang-gadang pemerintah bisa menjadi \\\\\\'game changer\\\\\\' dalam penanganan COVID-19 di Tanah Air. Sehingga bisa mendorong pemulihan ekonomi nasional. \"Tapi yang harus diingat bukan berarti karena divaksin, protokol kesehatan dilupakan. Karena harus diingat juga bahwa kondisi dari vaksin ini sendiri kan setiap tahun berulang, jadi bukan berarti divaksin kita kebal,\" kata Erick di acara HUT ke-13 tvOne, Senin 15 Februari 2021. Baca juga:Â Hary Tanoe Bikin Hollywood-nya Indonesia di KEK Lido, Intip Isinya Berita Terkait : Sejumlah Tenaga Kesehatan di Aceh Pingsan Usai Divaksin Jenderal Kopassus Ini Targetkan 17 Agustus Indonesia Bebas COVID-19 Vaksinasi Covid-19 Tahap Kedua Dimulai Aurel Hermansyah Positif COVID-19, Atta Halilintar Langsung Swab PCR https://www.viva.co.id/berita/bisnis/1348557-menteri-erick-ingatkan-sudah-divaksin-bukan-berarti-kebal-covid-19'"
      ]
     },
     "execution_count": 6,
     "metadata": {},
     "output_type": "execute_result"
    }
   ],
   "source": [
    "for i in range(0, len(final_data)):\n",
    "    final_data.at[i, 'Content'] = final_data.at[i, 'Content'].split()\n",
    "    final_data.at[i, 'Content'] = \" \".join(final_data.at[i, 'Content'])\n",
    "    \n",
    "final_data.at[15, 'Content']"
   ]
  },
  {
   "cell_type": "code",
   "execution_count": 7,
   "id": "protected-renewal",
   "metadata": {},
   "outputs": [
    {
     "data": {
      "text/html": [
       "<div>\n",
       "<style scoped>\n",
       "    .dataframe tbody tr th:only-of-type {\n",
       "        vertical-align: middle;\n",
       "    }\n",
       "\n",
       "    .dataframe tbody tr th {\n",
       "        vertical-align: top;\n",
       "    }\n",
       "\n",
       "    .dataframe thead th {\n",
       "        text-align: right;\n",
       "    }\n",
       "</style>\n",
       "<table border=\"1\" class=\"dataframe\">\n",
       "  <thead>\n",
       "    <tr style=\"text-align: right;\">\n",
       "      <th></th>\n",
       "      <th>Content</th>\n",
       "    </tr>\n",
       "  </thead>\n",
       "  <tbody>\n",
       "    <tr>\n",
       "      <th>0</th>\n",
       "      <td>Kapolri berjanji penggunaan pasal karet di UU ...</td>\n",
       "    </tr>\n",
       "    <tr>\n",
       "      <th>1</th>\n",
       "      <td>Penyediaan hunian untuk golongan menengah tern...</td>\n",
       "    </tr>\n",
       "    <tr>\n",
       "      <th>2</th>\n",
       "      <td>Organisasi Perdagangan Dunia (WTO) resmi memil...</td>\n",
       "    </tr>\n",
       "    <tr>\n",
       "      <th>3</th>\n",
       "      <td>Badan Pusat Statistik (BPS) Provinsi Papua men...</td>\n",
       "    </tr>\n",
       "    <tr>\n",
       "      <th>4</th>\n",
       "      <td>Kejaksaan Agung (Kejagung) kembali menetapkan ...</td>\n",
       "    </tr>\n",
       "  </tbody>\n",
       "</table>\n",
       "</div>"
      ],
      "text/plain": [
       "                                             Content\n",
       "0  Kapolri berjanji penggunaan pasal karet di UU ...\n",
       "1  Penyediaan hunian untuk golongan menengah tern...\n",
       "2  Organisasi Perdagangan Dunia (WTO) resmi memil...\n",
       "3  Badan Pusat Statistik (BPS) Provinsi Papua men...\n",
       "4  Kejaksaan Agung (Kejagung) kembali menetapkan ..."
      ]
     },
     "execution_count": 7,
     "metadata": {},
     "output_type": "execute_result"
    }
   ],
   "source": [
    "final_data['Content'] = final_data['Content'].str.replace(r'^(\\S+.com|\\S+)(,|)( \\S+ | )(- |– |-- |-; )', '')\n",
    "final_data['Content'] = final_data['Content'].str.replace(r'(https?:\\/\\/)?([\\da-z\\.-]+)\\.([a-z\\.]{2,6})([\\/\\w \\.-]*)', '')\n",
    "final_data['Content'] = final_data['Content'].str.replace(r'(^L, Jakarta |^L, Nay |^L, Yangon- |^BEI: |^CORE: |^L, Lombok Utara Plt |^JAKARTA--- |^Kapolri: |^PANEN KEPITING SANGKAK : |^Bupati Bekasi: |^Jakarta -; )', '')\n",
    "final_data['Content'] = final_data['Content'].str.replace(r'^KBRN, \\S+( \\S+|)(: | : )', '')\n",
    "final_data['Content'] = final_data['Content'].str.replace(r'^VIVAÂ( -Â | )', '')\n",
    "\n",
    "final_data.head()"
   ]
  },
  {
   "cell_type": "code",
   "execution_count": 8,
   "id": "lasting-domestic",
   "metadata": {},
   "outputs": [
    {
     "data": {
      "text/plain": [
       "'Menteri Badan Usaha Milik Negara (BUMN), Erick Thohir, memastikan bahwa Pemerintah telah berusaha secara maksimal dalam hal penanganan COVID-19. Bahkan, Pemerintah terus bekerja hampir 24 jam. Erick pun optimistis, program vaksinasi yang saat ini tengah digadang-gadang pemerintah bisa menjadi \\\\\\'game changer\\\\\\' dalam penanganan COVID-19 di Tanah Air. Sehingga bisa mendorong pemulihan ekonomi nasional. \"Tapi yang harus diingat bukan berarti karena divaksin, protokol kesehatan dilupakan. Karena harus diingat juga bahwa kondisi dari vaksin ini sendiri kan setiap tahun berulang, jadi bukan berarti divaksin kita kebal,\" kata Erick di acara HUT ke-13 tvOne, Senin 15 Februari 2021. Baca juga:Â Hary Tanoe Bikin Hollywood-nya Indonesia di KEK Lido, Intip Isinya Berita Terkait : Sejumlah Tenaga Kesehatan di Aceh Pingsan Usai Divaksin Jenderal Kopassus Ini Targetkan 17 Agustus Indonesia Bebas COVID-19 Vaksinasi Covid-19 Tahap Kedua Dimulai Aurel Hermansyah Positif COVID-19, Atta Halilintar Langsung Swab PCR '"
      ]
     },
     "execution_count": 8,
     "metadata": {},
     "output_type": "execute_result"
    }
   ],
   "source": [
    "final_data.at[15, 'Content']"
   ]
  },
  {
   "cell_type": "code",
   "execution_count": 9,
   "id": "educated-probe",
   "metadata": {},
   "outputs": [],
   "source": [
    "final_data.to_csv(r'Check.csv')"
   ]
  },
  {
   "cell_type": "code",
   "execution_count": 2,
   "id": "executed-milton",
   "metadata": {},
   "outputs": [],
   "source": [
    "final_data = pd.read_csv('Check.csv')"
   ]
  },
  {
   "cell_type": "code",
   "execution_count": 11,
   "id": "bearing-sydney",
   "metadata": {},
   "outputs": [
    {
     "name": "stdout",
     "output_type": "stream",
     "text": [
      "VIVA - Minister of State-Owned Enterprises (BUMN)\n"
     ]
    }
   ],
   "source": [
    "from deep_translator import GoogleTranslator\n",
    "\n",
    "translated = GoogleTranslator(source='id', target='en').translate(\"VIVAÂ -Â Menteri Badan Usaha Milik Negara (BUMN)\")\n",
    "print(translated)"
   ]
  },
  {
   "cell_type": "code",
   "execution_count": 12,
   "id": "neither-plate",
   "metadata": {},
   "outputs": [
    {
     "name": "stdout",
     "output_type": "stream",
     "text": [
      "100 articles translated out of 22904 --- 0.44%\n",
      "200 articles translated out of 22904 --- 0.87%\n",
      "300 articles translated out of 22904 --- 1.31%\n",
      "400 articles translated out of 22904 --- 1.75%\n",
      "500 articles translated out of 22904 --- 2.18%\n",
      "600 articles translated out of 22904 --- 2.62%\n",
      "700 articles translated out of 22904 --- 3.06%\n",
      "800 articles translated out of 22904 --- 3.49%\n",
      "900 articles translated out of 22904 --- 3.93%\n",
      "1000 articles translated out of 22904 --- 4.37%\n",
      "1100 articles translated out of 22904 --- 4.80%\n",
      "1200 articles translated out of 22904 --- 5.24%\n",
      "1300 articles translated out of 22904 --- 5.68%\n",
      "1400 articles translated out of 22904 --- 6.11%\n",
      "1500 articles translated out of 22904 --- 6.55%\n",
      "1600 articles translated out of 22904 --- 6.99%\n",
      "1700 articles translated out of 22904 --- 7.42%\n",
      "1800 articles translated out of 22904 --- 7.86%\n",
      "1900 articles translated out of 22904 --- 8.30%\n",
      "2000 articles translated out of 22904 --- 8.73%\n",
      "2100 articles translated out of 22904 --- 9.17%\n",
      "2200 articles translated out of 22904 --- 9.61%\n",
      "2300 articles translated out of 22904 --- 10.04%\n",
      "2400 articles translated out of 22904 --- 10.48%\n",
      "2500 articles translated out of 22904 --- 10.92%\n",
      "2600 articles translated out of 22904 --- 11.35%\n",
      "2700 articles translated out of 22904 --- 11.79%\n",
      "2800 articles translated out of 22904 --- 12.22%\n",
      "2900 articles translated out of 22904 --- 12.66%\n",
      "3000 articles translated out of 22904 --- 13.10%\n",
      "3100 articles translated out of 22904 --- 13.53%\n",
      "3200 articles translated out of 22904 --- 13.97%\n",
      "3300 articles translated out of 22904 --- 14.41%\n",
      "3400 articles translated out of 22904 --- 14.84%\n",
      "3500 articles translated out of 22904 --- 15.28%\n",
      "3600 articles translated out of 22904 --- 15.72%\n",
      "3700 articles translated out of 22904 --- 16.15%\n",
      "3800 articles translated out of 22904 --- 16.59%\n",
      "3900 articles translated out of 22904 --- 17.03%\n",
      "4000 articles translated out of 22904 --- 17.46%\n",
      "4100 articles translated out of 22904 --- 17.90%\n",
      "4200 articles translated out of 22904 --- 18.34%\n",
      "4300 articles translated out of 22904 --- 18.77%\n",
      "4400 articles translated out of 22904 --- 19.21%\n",
      "4500 articles translated out of 22904 --- 19.65%\n",
      "4600 articles translated out of 22904 --- 20.08%\n",
      "4700 articles translated out of 22904 --- 20.52%\n",
      "4800 articles translated out of 22904 --- 20.96%\n",
      "4900 articles translated out of 22904 --- 21.39%\n",
      "5000 articles translated out of 22904 --- 21.83%\n",
      "5100 articles translated out of 22904 --- 22.27%\n",
      "5200 articles translated out of 22904 --- 22.70%\n",
      "5300 articles translated out of 22904 --- 23.14%\n",
      "5400 articles translated out of 22904 --- 23.58%\n",
      "5500 articles translated out of 22904 --- 24.01%\n",
      "5600 articles translated out of 22904 --- 24.45%\n",
      "5700 articles translated out of 22904 --- 24.89%\n",
      "5800 articles translated out of 22904 --- 25.32%\n",
      "5900 articles translated out of 22904 --- 25.76%\n",
      "6000 articles translated out of 22904 --- 26.20%\n",
      "6100 articles translated out of 22904 --- 26.63%\n",
      "6200 articles translated out of 22904 --- 27.07%\n",
      "6300 articles translated out of 22904 --- 27.51%\n",
      "6400 articles translated out of 22904 --- 27.94%\n",
      "6500 articles translated out of 22904 --- 28.38%\n",
      "6600 articles translated out of 22904 --- 28.82%\n",
      "6700 articles translated out of 22904 --- 29.25%\n",
      "6800 articles translated out of 22904 --- 29.69%\n",
      "6900 articles translated out of 22904 --- 30.13%\n",
      "7000 articles translated out of 22904 --- 30.56%\n",
      "7100 articles translated out of 22904 --- 31.00%\n",
      "7200 articles translated out of 22904 --- 31.44%\n",
      "7300 articles translated out of 22904 --- 31.87%\n",
      "7400 articles translated out of 22904 --- 32.31%\n",
      "7500 articles translated out of 22904 --- 32.75%\n",
      "7600 articles translated out of 22904 --- 33.18%\n",
      "7700 articles translated out of 22904 --- 33.62%\n",
      "7800 articles translated out of 22904 --- 34.06%\n",
      "7900 articles translated out of 22904 --- 34.49%\n",
      "8000 articles translated out of 22904 --- 34.93%\n",
      "8100 articles translated out of 22904 --- 35.37%\n",
      "8200 articles translated out of 22904 --- 35.80%\n",
      "8300 articles translated out of 22904 --- 36.24%\n",
      "8400 articles translated out of 22904 --- 36.67%\n",
      "8500 articles translated out of 22904 --- 37.11%\n",
      "8600 articles translated out of 22904 --- 37.55%\n",
      "8700 articles translated out of 22904 --- 37.98%\n",
      "8800 articles translated out of 22904 --- 38.42%\n",
      "8900 articles translated out of 22904 --- 38.86%\n",
      "9000 articles translated out of 22904 --- 39.29%\n",
      "9100 articles translated out of 22904 --- 39.73%\n",
      "9200 articles translated out of 22904 --- 40.17%\n",
      "9300 articles translated out of 22904 --- 40.60%\n",
      "9400 articles translated out of 22904 --- 41.04%\n",
      "9500 articles translated out of 22904 --- 41.48%\n",
      "9600 articles translated out of 22904 --- 41.91%\n",
      "9700 articles translated out of 22904 --- 42.35%\n",
      "9800 articles translated out of 22904 --- 42.79%\n",
      "9900 articles translated out of 22904 --- 43.22%\n",
      "10000 articles translated out of 22904 --- 43.66%\n",
      "10100 articles translated out of 22904 --- 44.10%\n",
      "10200 articles translated out of 22904 --- 44.53%\n",
      "10300 articles translated out of 22904 --- 44.97%\n",
      "10400 articles translated out of 22904 --- 45.41%\n",
      "10500 articles translated out of 22904 --- 45.84%\n",
      "10600 articles translated out of 22904 --- 46.28%\n",
      "10700 articles translated out of 22904 --- 46.72%\n",
      "10800 articles translated out of 22904 --- 47.15%\n",
      "10900 articles translated out of 22904 --- 47.59%\n",
      "11000 articles translated out of 22904 --- 48.03%\n",
      "11100 articles translated out of 22904 --- 48.46%\n",
      "11200 articles translated out of 22904 --- 48.90%\n",
      "11300 articles translated out of 22904 --- 49.34%\n",
      "11400 articles translated out of 22904 --- 49.77%\n",
      "11500 articles translated out of 22904 --- 50.21%\n",
      "11600 articles translated out of 22904 --- 50.65%\n",
      "11700 articles translated out of 22904 --- 51.08%\n",
      "11800 articles translated out of 22904 --- 51.52%\n",
      "11900 articles translated out of 22904 --- 51.96%\n",
      "12000 articles translated out of 22904 --- 52.39%\n",
      "12100 articles translated out of 22904 --- 52.83%\n",
      "12200 articles translated out of 22904 --- 53.27%\n",
      "12300 articles translated out of 22904 --- 53.70%\n",
      "12400 articles translated out of 22904 --- 54.14%\n",
      "12500 articles translated out of 22904 --- 54.58%\n",
      "12600 articles translated out of 22904 --- 55.01%\n",
      "12700 articles translated out of 22904 --- 55.45%\n",
      "12800 articles translated out of 22904 --- 55.89%\n",
      "12900 articles translated out of 22904 --- 56.32%\n",
      "13000 articles translated out of 22904 --- 56.76%\n",
      "13100 articles translated out of 22904 --- 57.20%\n",
      "13200 articles translated out of 22904 --- 57.63%\n",
      "13300 articles translated out of 22904 --- 58.07%\n",
      "13400 articles translated out of 22904 --- 58.51%\n",
      "13500 articles translated out of 22904 --- 58.94%\n",
      "13600 articles translated out of 22904 --- 59.38%\n",
      "13700 articles translated out of 22904 --- 59.81%\n",
      "13800 articles translated out of 22904 --- 60.25%\n",
      "13900 articles translated out of 22904 --- 60.69%\n",
      "14000 articles translated out of 22904 --- 61.12%\n",
      "14100 articles translated out of 22904 --- 61.56%\n",
      "14200 articles translated out of 22904 --- 62.00%\n",
      "14300 articles translated out of 22904 --- 62.43%\n",
      "14400 articles translated out of 22904 --- 62.87%\n",
      "14500 articles translated out of 22904 --- 63.31%\n",
      "14600 articles translated out of 22904 --- 63.74%\n",
      "14700 articles translated out of 22904 --- 64.18%\n",
      "14800 articles translated out of 22904 --- 64.62%\n",
      "14900 articles translated out of 22904 --- 65.05%\n",
      "15000 articles translated out of 22904 --- 65.49%\n",
      "15100 articles translated out of 22904 --- 65.93%\n",
      "15200 articles translated out of 22904 --- 66.36%\n",
      "15300 articles translated out of 22904 --- 66.80%\n",
      "15400 articles translated out of 22904 --- 67.24%\n",
      "15500 articles translated out of 22904 --- 67.67%\n",
      "15600 articles translated out of 22904 --- 68.11%\n",
      "15700 articles translated out of 22904 --- 68.55%\n",
      "15800 articles translated out of 22904 --- 68.98%\n",
      "15900 articles translated out of 22904 --- 69.42%\n",
      "16000 articles translated out of 22904 --- 69.86%\n",
      "16100 articles translated out of 22904 --- 70.29%\n",
      "16200 articles translated out of 22904 --- 70.73%\n",
      "16300 articles translated out of 22904 --- 71.17%\n",
      "16400 articles translated out of 22904 --- 71.60%\n",
      "16500 articles translated out of 22904 --- 72.04%\n",
      "16600 articles translated out of 22904 --- 72.48%\n",
      "16700 articles translated out of 22904 --- 72.91%\n",
      "16800 articles translated out of 22904 --- 73.35%\n",
      "16900 articles translated out of 22904 --- 73.79%\n",
      "17000 articles translated out of 22904 --- 74.22%\n",
      "17100 articles translated out of 22904 --- 74.66%\n",
      "17200 articles translated out of 22904 --- 75.10%\n",
      "17300 articles translated out of 22904 --- 75.53%\n",
      "17400 articles translated out of 22904 --- 75.97%\n",
      "17500 articles translated out of 22904 --- 76.41%\n",
      "17600 articles translated out of 22904 --- 76.84%\n",
      "17700 articles translated out of 22904 --- 77.28%\n",
      "17800 articles translated out of 22904 --- 77.72%\n",
      "17900 articles translated out of 22904 --- 78.15%\n",
      "18000 articles translated out of 22904 --- 78.59%\n",
      "18100 articles translated out of 22904 --- 79.03%\n",
      "18200 articles translated out of 22904 --- 79.46%\n",
      "18300 articles translated out of 22904 --- 79.90%\n",
      "18400 articles translated out of 22904 --- 80.34%\n",
      "18500 articles translated out of 22904 --- 80.77%\n",
      "18600 articles translated out of 22904 --- 81.21%\n",
      "18700 articles translated out of 22904 --- 81.65%\n",
      "18800 articles translated out of 22904 --- 82.08%\n",
      "18900 articles translated out of 22904 --- 82.52%\n",
      "19000 articles translated out of 22904 --- 82.95%\n",
      "19100 articles translated out of 22904 --- 83.39%\n",
      "19200 articles translated out of 22904 --- 83.83%\n",
      "19300 articles translated out of 22904 --- 84.26%\n",
      "19400 articles translated out of 22904 --- 84.70%\n",
      "19500 articles translated out of 22904 --- 85.14%\n",
      "19600 articles translated out of 22904 --- 85.57%\n",
      "19700 articles translated out of 22904 --- 86.01%\n",
      "19800 articles translated out of 22904 --- 86.45%\n",
      "19900 articles translated out of 22904 --- 86.88%\n",
      "20000 articles translated out of 22904 --- 87.32%\n",
      "20100 articles translated out of 22904 --- 87.76%\n",
      "20200 articles translated out of 22904 --- 88.19%\n",
      "20300 articles translated out of 22904 --- 88.63%\n",
      "20400 articles translated out of 22904 --- 89.07%\n",
      "20500 articles translated out of 22904 --- 89.50%\n",
      "20600 articles translated out of 22904 --- 89.94%\n",
      "20700 articles translated out of 22904 --- 90.38%\n",
      "20800 articles translated out of 22904 --- 90.81%\n",
      "20900 articles translated out of 22904 --- 91.25%\n",
      "21000 articles translated out of 22904 --- 91.69%\n",
      "21100 articles translated out of 22904 --- 92.12%\n",
      "21200 articles translated out of 22904 --- 92.56%\n",
      "21300 articles translated out of 22904 --- 93.00%\n",
      "21400 articles translated out of 22904 --- 93.43%\n",
      "21500 articles translated out of 22904 --- 93.87%\n",
      "21600 articles translated out of 22904 --- 94.31%\n",
      "21700 articles translated out of 22904 --- 94.74%\n",
      "21800 articles translated out of 22904 --- 95.18%\n",
      "21900 articles translated out of 22904 --- 95.62%\n",
      "22000 articles translated out of 22904 --- 96.05%\n",
      "22100 articles translated out of 22904 --- 96.49%\n",
      "22200 articles translated out of 22904 --- 96.93%\n",
      "22300 articles translated out of 22904 --- 97.36%\n",
      "22400 articles translated out of 22904 --- 97.80%\n",
      "22500 articles translated out of 22904 --- 98.24%\n",
      "22600 articles translated out of 22904 --- 98.67%\n",
      "22700 articles translated out of 22904 --- 99.11%\n",
      "22800 articles translated out of 22904 --- 99.55%\n",
      "22900 articles translated out of 22904 --- 99.98%\n",
      "22904 articles translated out of 22904 --- 100%\n"
     ]
    }
   ],
   "source": [
    "import nltk\n",
    "import time\n",
    "from nltk.tokenize import sent_tokenize\n",
    "\n",
    "from deep_translator import GoogleTranslator\n",
    "\n",
    "for i, w in enumerate(final_data['Content']):\n",
    "    #time.sleep(1)\n",
    "    text = w\n",
    "    try:\n",
    "        translated = GoogleTranslator(source='id', target='en').translate(w)\n",
    "        final_data.at[i, 'Content'] = translated \n",
    "    except:\n",
    "        result = \"\"\n",
    "        split_sent = sent_tokenize(w)\n",
    "        \n",
    "        for j in split_sent: \n",
    "            try:\n",
    "                translated = GoogleTranslator(source='id', target='en').translate(j)\n",
    "                result += translated + \" \"\n",
    "            except:\n",
    "                continue\n",
    "            \n",
    "        final_data.at[i, 'Content'] = result\n",
    "      \n",
    "    if ((i+1)%100 == 0):\n",
    "        print(\"{0} articles translated out of {1} --- {2:.2f}%\".format(i+1, len(final_data), ((i+1)/len(final_data))*100))\n",
    "    elif ((i+1) == len(final_data)):\n",
    "        print(\"{0} articles translated out of {1} --- 100%\".format(i+1, len(final_data)))"
   ]
  },
  {
   "cell_type": "code",
   "execution_count": 13,
   "id": "affecting-classics",
   "metadata": {},
   "outputs": [
    {
     "data": {
      "text/html": [
       "<div>\n",
       "<style scoped>\n",
       "    .dataframe tbody tr th:only-of-type {\n",
       "        vertical-align: middle;\n",
       "    }\n",
       "\n",
       "    .dataframe tbody tr th {\n",
       "        vertical-align: top;\n",
       "    }\n",
       "\n",
       "    .dataframe thead th {\n",
       "        text-align: right;\n",
       "    }\n",
       "</style>\n",
       "<table border=\"1\" class=\"dataframe\">\n",
       "  <thead>\n",
       "    <tr style=\"text-align: right;\">\n",
       "      <th></th>\n",
       "      <th>Unnamed: 0</th>\n",
       "      <th>Content</th>\n",
       "    </tr>\n",
       "  </thead>\n",
       "  <tbody>\n",
       "    <tr>\n",
       "      <th>0</th>\n",
       "      <td>0</td>\n",
       "      <td>The National Police Chief promised that the us...</td>\n",
       "    </tr>\n",
       "    <tr>\n",
       "      <th>1</th>\n",
       "      <td>1</td>\n",
       "      <td>\"There are still various costs involved in pro...</td>\n",
       "    </tr>\n",
       "    <tr>\n",
       "      <th>2</th>\n",
       "      <td>2</td>\n",
       "      <td>The World Trade Organization (WTO) has officia...</td>\n",
       "    </tr>\n",
       "    <tr>\n",
       "      <th>3</th>\n",
       "      <td>3</td>\n",
       "      <td>The Central Statistics Agency (BPS) of Papua P...</td>\n",
       "    </tr>\n",
       "    <tr>\n",
       "      <th>4</th>\n",
       "      <td>4</td>\n",
       "      <td>The Attorney General's Office (AGO) has again ...</td>\n",
       "    </tr>\n",
       "    <tr>\n",
       "      <th>...</th>\n",
       "      <td>...</td>\n",
       "      <td>...</td>\n",
       "    </tr>\n",
       "    <tr>\n",
       "      <th>22899</th>\n",
       "      <td>22899</td>\n",
       "      <td>The number of poor people in West Nusa Tenggar...</td>\n",
       "    </tr>\n",
       "    <tr>\n",
       "      <th>22900</th>\n",
       "      <td>22900</td>\n",
       "      <td>Aceh province is again the poorest area in Sum...</td>\n",
       "    </tr>\n",
       "    <tr>\n",
       "      <th>22901</th>\n",
       "      <td>22901</td>\n",
       "      <td>The Attorney General's Office (AGO) has named ...</td>\n",
       "    </tr>\n",
       "    <tr>\n",
       "      <th>22902</th>\n",
       "      <td>22902</td>\n",
       "      <td>The Minister of Maritime Affairs and Fisheries...</td>\n",
       "    </tr>\n",
       "    <tr>\n",
       "      <th>22903</th>\n",
       "      <td>22903</td>\n",
       "      <td></td>\n",
       "    </tr>\n",
       "  </tbody>\n",
       "</table>\n",
       "<p>22904 rows × 2 columns</p>\n",
       "</div>"
      ],
      "text/plain": [
       "       Unnamed: 0                                            Content\n",
       "0               0  The National Police Chief promised that the us...\n",
       "1               1  \"There are still various costs involved in pro...\n",
       "2               2  The World Trade Organization (WTO) has officia...\n",
       "3               3  The Central Statistics Agency (BPS) of Papua P...\n",
       "4               4  The Attorney General's Office (AGO) has again ...\n",
       "...           ...                                                ...\n",
       "22899       22899  The number of poor people in West Nusa Tenggar...\n",
       "22900       22900  Aceh province is again the poorest area in Sum...\n",
       "22901       22901  The Attorney General's Office (AGO) has named ...\n",
       "22902       22902  The Minister of Maritime Affairs and Fisheries...\n",
       "22903       22903                                                   \n",
       "\n",
       "[22904 rows x 2 columns]"
      ]
     },
     "execution_count": 13,
     "metadata": {},
     "output_type": "execute_result"
    }
   ],
   "source": [
    "final_data"
   ]
  },
  {
   "cell_type": "code",
   "execution_count": 14,
   "id": "saving-intelligence",
   "metadata": {},
   "outputs": [],
   "source": [
    "final_data.to_csv(r'Translated_EN.csv')"
   ]
  },
  {
   "cell_type": "code",
   "execution_count": 9,
   "id": "understanding-prairie",
   "metadata": {},
   "outputs": [],
   "source": [
    "final_data_en = pd.read_csv('Translated_EN.csv')"
   ]
  },
  {
   "cell_type": "code",
   "execution_count": 10,
   "id": "ethical-manner",
   "metadata": {},
   "outputs": [],
   "source": [
    "final_data_en.drop('Unnamed: 0', inplace=True, axis=1)"
   ]
  },
  {
   "cell_type": "code",
   "execution_count": 12,
   "id": "living-seeker",
   "metadata": {},
   "outputs": [],
   "source": [
    "final_data_en.drop('Unnamed: 0.1', inplace=True, axis=1)"
   ]
  },
  {
   "cell_type": "code",
   "execution_count": 20,
   "id": "extra-tuition",
   "metadata": {},
   "outputs": [
    {
     "data": {
      "text/plain": [
       "nan"
      ]
     },
     "execution_count": 20,
     "metadata": {},
     "output_type": "execute_result"
    }
   ],
   "source": [
    "final_data_en.at[6, 'Content']"
   ]
  },
  {
   "cell_type": "code",
   "execution_count": 33,
   "id": "differential-polymer",
   "metadata": {},
   "outputs": [],
   "source": [
    "def isNaN(string):\n",
    "    return string != string\n",
    "\n",
    "omg_my_code = []\n",
    "\n",
    "for i, w in enumerate(final_data_en['Content']):\n",
    "    if isNaN(w):\n",
    "        omg_my_code.append(i)"
   ]
  },
  {
   "cell_type": "code",
   "execution_count": 35,
   "id": "proved-water",
   "metadata": {},
   "outputs": [
    {
     "name": "stdout",
     "output_type": "stream",
     "text": [
      "2552\n"
     ]
    }
   ],
   "source": [
    "print(len(omg_my_code))"
   ]
  },
  {
   "cell_type": "code",
   "execution_count": 39,
   "id": "consistent-powder",
   "metadata": {},
   "outputs": [
    {
     "data": {
      "text/html": [
       "<div>\n",
       "<style scoped>\n",
       "    .dataframe tbody tr th:only-of-type {\n",
       "        vertical-align: middle;\n",
       "    }\n",
       "\n",
       "    .dataframe tbody tr th {\n",
       "        vertical-align: top;\n",
       "    }\n",
       "\n",
       "    .dataframe thead th {\n",
       "        text-align: right;\n",
       "    }\n",
       "</style>\n",
       "<table border=\"1\" class=\"dataframe\">\n",
       "  <thead>\n",
       "    <tr style=\"text-align: right;\">\n",
       "      <th></th>\n",
       "      <th>Content</th>\n",
       "    </tr>\n",
       "  </thead>\n",
       "  <tbody>\n",
       "    <tr>\n",
       "      <th>0</th>\n",
       "      <td>Kapolri berjanji penggunaan pasal karet di UU ...</td>\n",
       "    </tr>\n",
       "    <tr>\n",
       "      <th>1</th>\n",
       "      <td>Penyediaan hunian untuk golongan menengah tern...</td>\n",
       "    </tr>\n",
       "    <tr>\n",
       "      <th>2</th>\n",
       "      <td>Organisasi Perdagangan Dunia (WTO) resmi memil...</td>\n",
       "    </tr>\n",
       "    <tr>\n",
       "      <th>3</th>\n",
       "      <td>Badan Pusat Statistik (BPS) Provinsi Papua men...</td>\n",
       "    </tr>\n",
       "    <tr>\n",
       "      <th>4</th>\n",
       "      <td>Kejaksaan Agung (Kejagung) kembali menetapkan ...</td>\n",
       "    </tr>\n",
       "    <tr>\n",
       "      <th>...</th>\n",
       "      <td>...</td>\n",
       "    </tr>\n",
       "    <tr>\n",
       "      <th>22899</th>\n",
       "      <td>Jumlah penduduk miskin di Nusa Tenggara Barat ...</td>\n",
       "    </tr>\n",
       "    <tr>\n",
       "      <th>22900</th>\n",
       "      <td>Provinsi Aceh kembali menjadi daerah termiskin...</td>\n",
       "    </tr>\n",
       "    <tr>\n",
       "      <th>22901</th>\n",
       "      <td>Kejaksaan Agung () telah menetapkan Direktur P...</td>\n",
       "    </tr>\n",
       "    <tr>\n",
       "      <th>22902</th>\n",
       "      <td>MENTERI Kelautan dan Perikanan, Sakti Wahyu Tr...</td>\n",
       "    </tr>\n",
       "    <tr>\n",
       "      <th>22903</th>\n",
       "      <td>PT Pegadaian (Persero) yang merupakan Badan Us...</td>\n",
       "    </tr>\n",
       "  </tbody>\n",
       "</table>\n",
       "<p>22904 rows × 1 columns</p>\n",
       "</div>"
      ],
      "text/plain": [
       "                                                 Content\n",
       "0      Kapolri berjanji penggunaan pasal karet di UU ...\n",
       "1      Penyediaan hunian untuk golongan menengah tern...\n",
       "2      Organisasi Perdagangan Dunia (WTO) resmi memil...\n",
       "3      Badan Pusat Statistik (BPS) Provinsi Papua men...\n",
       "4      Kejaksaan Agung (Kejagung) kembali menetapkan ...\n",
       "...                                                  ...\n",
       "22899  Jumlah penduduk miskin di Nusa Tenggara Barat ...\n",
       "22900  Provinsi Aceh kembali menjadi daerah termiskin...\n",
       "22901  Kejaksaan Agung () telah menetapkan Direktur P...\n",
       "22902  MENTERI Kelautan dan Perikanan, Sakti Wahyu Tr...\n",
       "22903  PT Pegadaian (Persero) yang merupakan Badan Us...\n",
       "\n",
       "[22904 rows x 1 columns]"
      ]
     },
     "execution_count": 39,
     "metadata": {},
     "output_type": "execute_result"
    }
   ],
   "source": [
    "final_data.drop('Unnamed: 0', inplace=True, axis=1)\n",
    "final_data"
   ]
  },
  {
   "cell_type": "code",
   "execution_count": 42,
   "id": "blessed-calibration",
   "metadata": {},
   "outputs": [
    {
     "name": "stdout",
     "output_type": "stream",
     "text": [
      "100 errors fixed out of 2552 --- 3.92%\n",
      "200 errors fixed out of 2552 --- 7.84%\n",
      "300 errors fixed out of 2552 --- 11.76%\n",
      "400 errors fixed out of 2552 --- 15.67%\n",
      "500 errors fixed out of 2552 --- 19.59%\n",
      "600 errors fixed out of 2552 --- 23.51%\n",
      "700 errors fixed out of 2552 --- 27.43%\n",
      "800 errors fixed out of 2552 --- 31.35%\n",
      "900 errors fixed out of 2552 --- 35.27%\n",
      "1000 errors fixed out of 2552 --- 39.18%\n",
      "1100 errors fixed out of 2552 --- 43.10%\n",
      "1200 errors fixed out of 2552 --- 47.02%\n",
      "1300 errors fixed out of 2552 --- 50.94%\n",
      "1400 errors fixed out of 2552 --- 54.86%\n",
      "1500 errors fixed out of 2552 --- 58.78%\n",
      "1600 errors fixed out of 2552 --- 62.70%\n",
      "1700 errors fixed out of 2552 --- 66.61%\n",
      "1800 errors fixed out of 2552 --- 70.53%\n",
      "1900 errors fixed out of 2552 --- 74.45%\n",
      "2000 errors fixed out of 2552 --- 78.37%\n",
      "2100 errors fixed out of 2552 --- 82.29%\n",
      "2200 errors fixed out of 2552 --- 86.21%\n",
      "2300 errors fixed out of 2552 --- 90.13%\n",
      "2400 errors fixed out of 2552 --- 94.04%\n",
      "2500 errors fixed out of 2552 --- 97.96%\n",
      "2552 articles translated out of 2552 --- 100%\n"
     ]
    }
   ],
   "source": [
    "import nltk\n",
    "import time\n",
    "from nltk.tokenize import sent_tokenize\n",
    "\n",
    "from deep_translator import GoogleTranslator\n",
    "\n",
    "count = 0\n",
    "\n",
    "for i in omg_my_code:\n",
    "    text = final_data.at[i, 'Content']\n",
    " \n",
    "    try:\n",
    "        translated = GoogleTranslator(source='id', target='en').translate(text)\n",
    "        final_data_en.at[i, 'Content'] = translated \n",
    "    except:\n",
    "        result = \"\"\n",
    "        split_sent = sent_tokenize(text)\n",
    "        \n",
    "        for j in split_sent: \n",
    "            \n",
    "            try:\n",
    "                translated = GoogleTranslator(source='id', target='en').translate(j)\n",
    "                result += translated + \" \"\n",
    "            except:\n",
    "                continue\n",
    "            \n",
    "        final_data_en.at[i, 'Content'] = result\n",
    "        \n",
    "    count += 1\n",
    "    \n",
    "    if (count%100 == 0):\n",
    "        print(\"{0} errors fixed out of {1} --- {2:.2f}%\".format(count, len(omg_my_code), (count/len(omg_my_code))*100))\n",
    "    elif ((i+1) == len(final_data)):\n",
    "        print(\"{0} articles translated out of {1} --- 100%\".format(count, len(omg_my_code)))"
   ]
  },
  {
   "cell_type": "code",
   "execution_count": 43,
   "id": "junior-comment",
   "metadata": {},
   "outputs": [],
   "source": [
    "final_data_en.to_csv(r'Translated_EN_fixed.csv')"
   ]
  },
  {
   "cell_type": "code",
   "execution_count": 3,
   "id": "optional-major",
   "metadata": {},
   "outputs": [],
   "source": [
    "final_data_en_fixed = pd.read_csv('Translated_EN_fixed.csv')"
   ]
  },
  {
   "cell_type": "code",
   "execution_count": 4,
   "id": "green-opening",
   "metadata": {},
   "outputs": [
    {
     "name": "stdout",
     "output_type": "stream",
     "text": [
      "22903\n",
      "1166\n"
     ]
    }
   ],
   "source": [
    "def isNaN(string):\n",
    "    return string != string\n",
    "\n",
    "omg_my_code_AAA = []\n",
    "\n",
    "for i, w in enumerate(final_data_en_fixed['Content']):\n",
    "    if isNaN(w):\n",
    "        omg_my_code_AAA.append(i)\n",
    "        \n",
    "        if i == 22903:\n",
    "            print(i)\n",
    "            \n",
    "print(len(omg_my_code_AAA))"
   ]
  },
  {
   "cell_type": "code",
   "execution_count": 6,
   "id": "colored-gabriel",
   "metadata": {},
   "outputs": [
    {
     "name": "stdout",
     "output_type": "stream",
     "text": [
      "9\n"
     ]
    }
   ],
   "source": [
    "from IPython.display import clear_output\n",
    "\n",
    "for i in range(10):\n",
    "    clear_output(wait=True)\n",
    "    print(i)"
   ]
  },
  {
   "cell_type": "code",
   "execution_count": 8,
   "id": "endless-pressure",
   "metadata": {},
   "outputs": [
    {
     "name": "stdout",
     "output_type": "stream",
     "text": [
      "1160 errors fixed out of 1166 --- 99.49%\n"
     ]
    }
   ],
   "source": [
    "import nltk\n",
    "import time\n",
    "from nltk.tokenize import sent_tokenize\n",
    "\n",
    "from deep_translator import GoogleTranslator\n",
    "\n",
    "count = 0\n",
    "\n",
    "for i in omg_my_code_AAA:\n",
    "           \n",
    "    text = final_data.at[i, 'Content']\n",
    "\n",
    "    try:\n",
    "        translated = GoogleTranslator(source='id', target='en').translate(text)\n",
    "        final_data_en_fixed.at[i, 'Content'] = translated \n",
    "        #print(translated)\n",
    "    except:\n",
    "        final_before = \"\"\n",
    "        temp = \"\"\n",
    "        result = \"\"\n",
    "        split_sent = sent_tokenize(text)\n",
    "\n",
    "        for l, j in enumerate(split_sent):\n",
    "            final_before = temp\n",
    "            temp = temp + j + \" \"\n",
    "\n",
    "            if(len(temp) >= 5000):\n",
    "                temp = j\n",
    "                try:\n",
    "                    translated = GoogleTranslator(source='id', target='en').translate(final_before)\n",
    "                    result += translated + \" \"\n",
    "                except:\n",
    "                    print(\"ERROR\")\n",
    "                    continue\n",
    "            elif(l+1 == len(split_sent)):\n",
    "                try:\n",
    "                    translated = GoogleTranslator(source='id', target='en').translate(temp)\n",
    "                    result += translated + \" \"\n",
    "                except:\n",
    "                    print(\"ERROR\")\n",
    "                    continue\n",
    "            else:\n",
    "                continue\n",
    "                \n",
    "        final_data_en_fixed.at[i, 'Content'] = result\n",
    "\n",
    "    count += 1\n",
    "\n",
    "    if (count%10 == 0):\n",
    "        clear_output(wait=True)\n",
    "        print(\"{0} errors fixed out of {1} --- {2:.2f}%\".format(count, len(omg_my_code_AAA), (count/len(omg_my_code_AAA))*100))\n",
    "    elif ((i+1) == len(omg_my_code_AAA)):\n",
    "        clear_output(wait=True)\n",
    "        print(\"{0} articles translated out of {1} --- 100%\".format(count, len(omg_my_code_AAA)))    "
   ]
  },
  {
   "cell_type": "code",
   "execution_count": 11,
   "id": "cubic-cross",
   "metadata": {},
   "outputs": [],
   "source": [
    "final_data_en_fixed.to_csv(r'Translated_EN_fixed.csv')"
   ]
  },
  {
   "cell_type": "code",
   "execution_count": 10,
   "id": "encouraging-exemption",
   "metadata": {},
   "outputs": [
    {
     "data": {
      "text/plain": [
       "'PT Pegadaian (Persero) which is a State-Owned Enterprise (BUMN) offers gold buying and selling services. This service complements the pawn services that have been offered previously. There are several types of gold sold by the company, which was founded in 1901 in Sukabumi, West Java. The types of gold listed are Antam gold, Retro gold, Batik gold, and UBS gold. All types of gold are only available at Pegadaian outlets. Every day the price of gold sold continues to change. However, on Monday, February 15, 2021, the price of all types of gold was observed to be stable. The following is a complete and updated list of PT Pegadaian (Persero) gold prices on February 15, 2021 Antam Gold Price - 2.0 grams = Rp. 1,911,000 - 3.0 grams = Rp. 2,840,000 - 5.0 grams = Rp. 4,697,000 - 10, 0 grams = IDR 9,335,000 - 25.0 grams = IDR 23,206,000 - 50.0 grams = IDR 46,328,000 - 100.0 grams = IDR 92,575,000 - 500.0 grams = IDR 462,098,000 - 1000.0 grams = IDR 924. 154,000 Antam Retro Gold Price - 0.5 gram = Rp451,000 - 1.0 gram = Rp902,000 - 2.0 gram = Rp1,804,000 - 3.0 gram = Rp2,706,000 - 5.0 gram = Rp4,510,000 - 10.0 grams = IDR 9,020,000 - 25.0 grams = IDR 22,550,000 - 50.0 grams = IDR 45,100,000 - 100.0 grams = IDR 90,200,000 Antam Batik Gold Price - 0.5 grams = IDR 620,000 - 1.0 gram = Rp1,143,000 UBS Gold Price - 0.5 gram = Rp499,000 - 1.0 gram = Rp934,000 - 2.0 gram = Rp1,854,000 - 5.0 gram = Rp4,580,000 - 10, 0 gram = Rp9,111,000 - 25.0 gram = Rp22,732,000 - 50.0 gram = Rp45,369,000 - 100.0 gram = Rp90,701,000 - 250.0 gram = Rp226,684,000 - 500.0 gram = Rp452. 834,000 - 1000.0 gram = Rp904,689.000 Reporter Aprilia Report Wahyu Melati Competes with Bitcoin, Gold Prices Expected to Be Underpressed Throughout the Week EnlargeIllustration of Precious Metals (iStockphoto)Analysts on Wall Street expect gold prices to continue weakening after failing to break the resistance level at USD 1,850 per ounce. While retail investors expect gold prices to be bullish after falling to its lowest level in three months. Many analysts on Wall Street expect gold prices to remain under pressure in the near term as investors focus on the surge in momentum in the stock market. At the same time, analysts say that many investors are turning to bitcoin, which is trading at record highs as a potential new hedge against inflation. \"With investor confidence high at the moment, there isn\\'t much demand for defensive shelters,\" said SIA Wealth Management chief analyst Colin Cieszynski. “Additionally, market participants will look for alternatives to the US dollar and focus more on Bitcoin and other cryptocurrencies than precious metals.” he added. This week, 14 analysts participated in the Kitco survey. As many as 10 analysts or 71 percent expect gold prices to fall this week. Meanwhile, bullish and neutral analysts got the same vote with 14 percent each. Meanwhile, retail investors who took part in the online survey reached 1,257 votes. Among them, 644 votes or 51 percent said gold prices would be bullish. While 350 other investors or 28 percent said the price of gold will be bearish. Meanwhile, 263 voters or 2i percent were neutral. Gold Price Towards Best Weekly Achievement in 3 Weeks Enlarge Illustration of Precious Metals (iStockphoto)World gold prices are moving steadily, triggered by investors waiting for new catalysts. Although gold prices are on track for their best weekly gain in three weeks, helped by a weaker dollar. Launching the Nasdaq page, Friday (12/2/2021), the price of gold in the spot market was stable at USD 1,825.21 per ounce. Prices rose 0.7 percent in the week. The price of US gold futures slipped 0.1 percent to USD 1,825.40. The dollar exchange rate is heading for its first week of decline in three weeks, due to signals the US job market is weakening which could undermine investors\\' expectations about the speed of recovery from the Covid-19 pandemic. Noted, US jobless claims fell slightly last week as the labor market continued to decline. But the decline in new COVID-19 cases has boosted cautious optimism that momentum could pick up in the spring. On the other hand, President Joe Biden plans to ask Congress this month to invest heavily in infrastructure after a $1.9 trillion COVID-19 relief package passes Congress in the next few days without significant Republican support. Biden and his Chinese counterpart President Xi Jinping communicated with each other by telephone for the first time on Thursday. Talks appeared to have clashed on many issues, even as Xi warned a confrontation would be \"catastrophic\" for the two countries. \"Slower-than-expected vaccine rollouts and the emergence of coronavirus variants may make herd immunity to COVID-19 difficult, but that shouldn\\'t stop the economy from rebounding,\" according to a U.S. central banker. '"
      ]
     },
     "execution_count": 10,
     "metadata": {},
     "output_type": "execute_result"
    }
   ],
   "source": []
  },
  {
   "cell_type": "code",
   "execution_count": 12,
   "id": "abstract-hygiene",
   "metadata": {},
   "outputs": [
    {
     "name": "stdout",
     "output_type": "stream",
     "text": [
      "0\n"
     ]
    }
   ],
   "source": [
    "def isNaN(string):\n",
    "    return string != string\n",
    "\n",
    "test_again = []\n",
    "\n",
    "for i, w in enumerate(final_data_en_fixed['Content']):\n",
    "    if isNaN(w):\n",
    "        test_again.append(i)\n",
    "        \n",
    "        if i == 22903:\n",
    "            print(i)\n",
    "            \n",
    "print(len(test_again))"
   ]
  },
  {
   "cell_type": "code",
   "execution_count": null,
   "id": "korean-lesson",
   "metadata": {},
   "outputs": [],
   "source": []
  }
 ],
 "metadata": {
  "kernelspec": {
   "display_name": "Python 3",
   "language": "python",
   "name": "python3"
  },
  "language_info": {
   "codemirror_mode": {
    "name": "ipython",
    "version": 3
   },
   "file_extension": ".py",
   "mimetype": "text/x-python",
   "name": "python",
   "nbconvert_exporter": "python",
   "pygments_lexer": "ipython3",
   "version": "3.6.8"
  }
 },
 "nbformat": 4,
 "nbformat_minor": 5
}
