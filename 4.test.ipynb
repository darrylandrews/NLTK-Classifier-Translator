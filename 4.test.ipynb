{
 "cells": [
  {
   "cell_type": "code",
   "execution_count": 1,
   "id": "significant-consensus",
   "metadata": {},
   "outputs": [],
   "source": [
    "import sentiment_mod as s\n",
    "from IPython.display import clear_output"
   ]
  },
  {
   "cell_type": "code",
   "execution_count": 2,
   "id": "multiple-fairy",
   "metadata": {},
   "outputs": [],
   "source": [
    "import pandas as pd\n",
    "data = pd.read_csv('Translated - Vader and Blob.csv')"
   ]
  },
  {
   "cell_type": "code",
   "execution_count": 3,
   "id": "composite-alabama",
   "metadata": {},
   "outputs": [
    {
     "name": "stdout",
     "output_type": "stream",
     "text": [
      "22904 processed out of 22904 --- 100.00%\n"
     ]
    }
   ],
   "source": [
    "count = 0\n",
    "\n",
    "for i, w in enumerate(data['Content']):\n",
    "    res, conf = s.sentiment(w)\n",
    "    data.at[i, 'SA Result'] = res\n",
    "    data.at[i, 'Confidence'] = conf\n",
    "    \n",
    "    count += 1\n",
    "    if (count%10 == 0):\n",
    "        clear_output(wait=True)\n",
    "        print(\"{0} processed out of {1} --- {2:.2f}%\".format(count, len(data['Content']), (count/len(data['Content']))*100))\n",
    "    elif (count == len(data['Content'])):\n",
    "        clear_output(wait=True)\n",
    "        print(\"{0} processed out of {1} --- {2:.2f}%\".format(count, len(data['Content']), (count/len(data['Content']))*100))"
   ]
  },
  {
   "cell_type": "code",
   "execution_count": 4,
   "id": "periodic-haven",
   "metadata": {},
   "outputs": [
    {
     "data": {
      "text/html": [
       "<div>\n",
       "<style scoped>\n",
       "    .dataframe tbody tr th:only-of-type {\n",
       "        vertical-align: middle;\n",
       "    }\n",
       "\n",
       "    .dataframe tbody tr th {\n",
       "        vertical-align: top;\n",
       "    }\n",
       "\n",
       "    .dataframe thead th {\n",
       "        text-align: right;\n",
       "    }\n",
       "</style>\n",
       "<table border=\"1\" class=\"dataframe\">\n",
       "  <thead>\n",
       "    <tr style=\"text-align: right;\">\n",
       "      <th></th>\n",
       "      <th>Unnamed: 0</th>\n",
       "      <th>Content</th>\n",
       "      <th>Vader Score</th>\n",
       "      <th>Blob Score</th>\n",
       "      <th>SA Result</th>\n",
       "      <th>Confidence</th>\n",
       "    </tr>\n",
       "  </thead>\n",
       "  <tbody>\n",
       "    <tr>\n",
       "      <th>0</th>\n",
       "      <td>0</td>\n",
       "      <td>The National Police Chief promised that the us...</td>\n",
       "      <td>1.0</td>\n",
       "      <td>1.0</td>\n",
       "      <td>pos</td>\n",
       "      <td>0.6</td>\n",
       "    </tr>\n",
       "    <tr>\n",
       "      <th>1</th>\n",
       "      <td>1</td>\n",
       "      <td>\"There are still various costs involved in pro...</td>\n",
       "      <td>1.0</td>\n",
       "      <td>1.0</td>\n",
       "      <td>pos</td>\n",
       "      <td>1.0</td>\n",
       "    </tr>\n",
       "    <tr>\n",
       "      <th>2</th>\n",
       "      <td>2</td>\n",
       "      <td>The World Trade Organization (WTO) has officia...</td>\n",
       "      <td>1.0</td>\n",
       "      <td>1.0</td>\n",
       "      <td>pos</td>\n",
       "      <td>1.0</td>\n",
       "    </tr>\n",
       "    <tr>\n",
       "      <th>3</th>\n",
       "      <td>3</td>\n",
       "      <td>The Central Statistics Agency (BPS) of Papua P...</td>\n",
       "      <td>0.0</td>\n",
       "      <td>1.0</td>\n",
       "      <td>pos</td>\n",
       "      <td>0.8</td>\n",
       "    </tr>\n",
       "    <tr>\n",
       "      <th>4</th>\n",
       "      <td>4</td>\n",
       "      <td>The Attorney General's Office (AGO) has again ...</td>\n",
       "      <td>0.0</td>\n",
       "      <td>0.0</td>\n",
       "      <td>neg</td>\n",
       "      <td>1.0</td>\n",
       "    </tr>\n",
       "    <tr>\n",
       "      <th>...</th>\n",
       "      <td>...</td>\n",
       "      <td>...</td>\n",
       "      <td>...</td>\n",
       "      <td>...</td>\n",
       "      <td>...</td>\n",
       "      <td>...</td>\n",
       "    </tr>\n",
       "    <tr>\n",
       "      <th>22899</th>\n",
       "      <td>22899</td>\n",
       "      <td>The number of poor people in West Nusa Tenggar...</td>\n",
       "      <td>0.0</td>\n",
       "      <td>0.0</td>\n",
       "      <td>neg</td>\n",
       "      <td>1.0</td>\n",
       "    </tr>\n",
       "    <tr>\n",
       "      <th>22900</th>\n",
       "      <td>22900</td>\n",
       "      <td>Aceh province is again the poorest area in Sum...</td>\n",
       "      <td>0.0</td>\n",
       "      <td>0.0</td>\n",
       "      <td>neg</td>\n",
       "      <td>1.0</td>\n",
       "    </tr>\n",
       "    <tr>\n",
       "      <th>22901</th>\n",
       "      <td>22901</td>\n",
       "      <td>The Attorney General's Office (AGO) has named ...</td>\n",
       "      <td>0.0</td>\n",
       "      <td>0.0</td>\n",
       "      <td>neg</td>\n",
       "      <td>1.0</td>\n",
       "    </tr>\n",
       "    <tr>\n",
       "      <th>22902</th>\n",
       "      <td>22902</td>\n",
       "      <td>The Minister of Maritime Affairs and Fisheries...</td>\n",
       "      <td>1.0</td>\n",
       "      <td>1.0</td>\n",
       "      <td>pos</td>\n",
       "      <td>1.0</td>\n",
       "    </tr>\n",
       "    <tr>\n",
       "      <th>22903</th>\n",
       "      <td>22903</td>\n",
       "      <td>PT Pegadaian (Persero) which is a State-Owned ...</td>\n",
       "      <td>1.0</td>\n",
       "      <td>1.0</td>\n",
       "      <td>pos</td>\n",
       "      <td>1.0</td>\n",
       "    </tr>\n",
       "  </tbody>\n",
       "</table>\n",
       "<p>22904 rows × 6 columns</p>\n",
       "</div>"
      ],
      "text/plain": [
       "       Unnamed: 0                                            Content  \\\n",
       "0               0  The National Police Chief promised that the us...   \n",
       "1               1  \"There are still various costs involved in pro...   \n",
       "2               2  The World Trade Organization (WTO) has officia...   \n",
       "3               3  The Central Statistics Agency (BPS) of Papua P...   \n",
       "4               4  The Attorney General's Office (AGO) has again ...   \n",
       "...           ...                                                ...   \n",
       "22899       22899  The number of poor people in West Nusa Tenggar...   \n",
       "22900       22900  Aceh province is again the poorest area in Sum...   \n",
       "22901       22901  The Attorney General's Office (AGO) has named ...   \n",
       "22902       22902  The Minister of Maritime Affairs and Fisheries...   \n",
       "22903       22903  PT Pegadaian (Persero) which is a State-Owned ...   \n",
       "\n",
       "       Vader Score  Blob Score SA Result  Confidence  \n",
       "0              1.0         1.0       pos         0.6  \n",
       "1              1.0         1.0       pos         1.0  \n",
       "2              1.0         1.0       pos         1.0  \n",
       "3              0.0         1.0       pos         0.8  \n",
       "4              0.0         0.0       neg         1.0  \n",
       "...            ...         ...       ...         ...  \n",
       "22899          0.0         0.0       neg         1.0  \n",
       "22900          0.0         0.0       neg         1.0  \n",
       "22901          0.0         0.0       neg         1.0  \n",
       "22902          1.0         1.0       pos         1.0  \n",
       "22903          1.0         1.0       pos         1.0  \n",
       "\n",
       "[22904 rows x 6 columns]"
      ]
     },
     "execution_count": 4,
     "metadata": {},
     "output_type": "execute_result"
    }
   ],
   "source": [
    "data"
   ]
  },
  {
   "cell_type": "code",
   "execution_count": 5,
   "id": "undefined-commercial",
   "metadata": {},
   "outputs": [],
   "source": [
    "data.to_csv('Final_Result.csv')"
   ]
  },
  {
   "cell_type": "code",
   "execution_count": 3,
   "id": "protecting-going",
   "metadata": {},
   "outputs": [],
   "source": [
    "data = pd.read_csv('Final_Result.csv')"
   ]
  },
  {
   "cell_type": "code",
   "execution_count": 4,
   "id": "confident-mayor",
   "metadata": {},
   "outputs": [],
   "source": [
    "pos, neg = data['SA Result'].value_counts()"
   ]
  },
  {
   "cell_type": "code",
   "execution_count": 5,
   "id": "minus-confidence",
   "metadata": {},
   "outputs": [],
   "source": [
    "np_array = []\n",
    "\n",
    "np_array.append(pos)\n",
    "np_array.append(neg)"
   ]
  },
  {
   "cell_type": "code",
   "execution_count": 7,
   "id": "advance-yahoo",
   "metadata": {},
   "outputs": [
    {
     "data": {
      "image/png": "[encoded data removed]",
      "text/plain": [
       "<Figure size 1152x648 with 1 Axes>"
      ]
     },
     "metadata": {},
     "output_type": "display_data"
    }
   ],
   "source": [
    "import matplotlib.pyplot as plt\n",
    "\n",
    "mylabels = [\"Positive\", \"Negative\"]\n",
    "mycolors = [\"g\", \"r\"]\n",
    "\n",
    "plt.pie(np_array, labels = mylabels, colors = mycolors, autopct=\"%.f%%\")\n",
    "\n",
    "plt.rcParams[\"figure.figsize\"] = (16,9)\n",
    "#plt.rcParams.update({'font.size': 22})\n",
    "plt.legend(title = \"Voting Classifier Result\")\n",
    "plt.rc('font', size=22)   \n",
    "plt.show() "
   ]
  },
  {
   "cell_type": "code",
   "execution_count": null,
   "id": "worth-nothing",
   "metadata": {},
   "outputs": [],
   "source": []
  }
 ],
 "metadata": {
  "kernelspec": {
   "display_name": "Python 3",
   "language": "python",
   "name": "python3"
  },
  "language_info": {
   "codemirror_mode": {
    "name": "ipython",
    "version": 3
   },
   "file_extension": ".py",
   "mimetype": "text/x-python",
   "name": "python",
   "nbconvert_exporter": "python",
   "pygments_lexer": "ipython3",
   "version": "3.6.8"
  }
 },
 "nbformat": 4,
 "nbformat_minor": 5
}
